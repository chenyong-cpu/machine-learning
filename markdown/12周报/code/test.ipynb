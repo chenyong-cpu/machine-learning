{
 "cells": [
  {
   "cell_type": "code",
   "execution_count": 1,
   "metadata": {},
   "outputs": [
    {
     "data": {
      "text/plain": [
       "['123', '（123）', '']"
      ]
     },
     "execution_count": 1,
     "metadata": {},
     "output_type": "execute_result"
    }
   ],
   "source": [
    "import re\n",
    "\n",
    "str1 = '123（123）'\n",
    "re.split(r\"(（.{1,}）)\", str1)"
   ]
  },
  {
   "cell_type": "code",
   "execution_count": 2,
   "metadata": {},
   "outputs": [
    {
     "name": "stdout",
     "output_type": "stream",
     "text": [
      "qww\n"
     ]
    }
   ],
   "source": [
    "print(\"qww\")"
   ]
  },
  {
   "cell_type": "code",
   "execution_count": 2,
   "metadata": {},
   "outputs": [
    {
     "data": {
      "text/plain": [
       "['1', '1', '4', '2']"
      ]
     },
     "execution_count": 2,
     "metadata": {},
     "output_type": "execute_result"
    }
   ],
   "source": [
    "lists = ['1', '1', '4']\n",
    "lists.append('2')\n",
    "lists"
   ]
  },
  {
   "cell_type": "code",
   "execution_count": 3,
   "metadata": {},
   "outputs": [
    {
     "data": {
      "text/plain": [
       "True"
      ]
     },
     "execution_count": 3,
     "metadata": {},
     "output_type": "execute_result"
    }
   ],
   "source": [
    "str = '123'\n",
    "str.endswith('3')"
   ]
  },
  {
   "cell_type": "code",
   "execution_count": null,
   "metadata": {},
   "outputs": [],
   "source": [
    "import pandas as pd\n",
    "\n",
    "pd.isnull"
   ]
  },
  {
   "cell_type": "code",
   "execution_count": 1,
   "metadata": {},
   "outputs": [
    {
     "name": "stdout",
     "output_type": "stream",
     "text": [
      "123\n"
     ]
    }
   ],
   "source": [
    "import type\n",
    "\n",
    "type.type()"
   ]
  },
  {
   "cell_type": "code",
   "execution_count": null,
   "metadata": {},
   "outputs": [],
   "source": [
    "def lac_username(sentences: str) -> list:\n",
    "    # 装载LAC模型\n",
    "    user_name_list = []\n",
    "    lac = LAC(mode=\"lac\")\n",
    "    lac_result = lac.run(sentences)\n",
    "    for index, lac_label in enumerate(lac_result[1]):\n",
    "        if lac_label == \"PER\":\n",
    "            user_name_list.append(lac_result[0][index])\n",
    "    return user_name_list"
   ]
  },
  {
   "cell_type": "code",
   "execution_count": null,
   "metadata": {},
   "outputs": [],
   "source": [
    "# 汇总全部的10个分类\n",
    "def split2ten(kdfg_dz_df):\n",
    "    # 添加一列'ten_type'用于存储10个分类\n",
    "    columns = list(kdfg_dz_df.columns)\n",
    "    columns.append('ten_type')\n",
    "    kdfg_dz_df = kdfg_dz_df.reindex(columns=columns)\n",
    "    \n",
    "    # 对学校进行处理\n",
    "    kdfg_dz_df.loc[kdfg_dz_df['grade_8'].str.contains((r\"校|大学|小学|初中|高中|学院|学生|幼儿园\"), na=False) & kdfg_dz_df['ten_type'].isnull(), 'ten_type'] = '学校'\n",
    "    \n",
    "    # 对独立企业进行处理\n",
    "    kdfg_dz_df.loc[kdfg_dz_df['grade_8'].str.contains((r\"公司|集团|总部\"), na=False) & kdfg_dz_df['ten_type'].isnull(), 'ten_type'] = '独立企业'\n",
    "    \n",
    "    # 对商业楼宇进行处理\n",
    "    kdfg_dz_df.loc[kdfg_dz_df['grade_8'].str.contains((r\"大厦|商业|商务|中心|金座|商城|大楼\"), na=False) & kdfg_dz_df['ten_type'].isnull() & kdfg_dz_df['ten_type'].isnull(), 'ten_type'] = '商业楼宇'\n",
    "    \n",
    "    # 对专业市场进行处理\n",
    "    kdfg_dz_df.loc[kdfg_dz_df['grade_8'].str.contains((r\"市场|汽车城\"), na=False) & kdfg_dz_df['ten_type'].isnull(), 'ten_type'] = '专业市场'\n",
    "    \n",
    "    # 对商住两用进行处理\n",
    "    kdfg_dz_df.loc[kdfg_dz_df['grade_8'].str.contains((r\"商住\"), na=False) & kdfg_dz_df['ten_type'].isnull(), 'ten_type'] = '商住两用'\n",
    "    \n",
    "    # 对工业园区进行处理\n",
    "    kdfg_dz_df.loc[kdfg_dz_df['grade_8'].str.contains((r\"工业园|厂|科技园|创意园|生产基地\"), na=False) & kdfg_dz_df['ten_type'].isnull(), 'ten_type'] = '工业园区'\n",
    "    \n",
    "    # 对沿街店铺进行处理\n",
    "    kdfg_dz_df.loc[kdfg_dz_df['grade_8'].str.contains((r\"店\"), na=False) & kdfg_dz_df['ten_type'].isnull(), 'ten_type'] = '沿街店铺'\n",
    "    kdfg_dz_df.loc[kdfg_dz_df['grade_8'].isnull() & kdfg_dz_df['grade_9'].isnull() & kdfg_dz_df['grade_10'].isnull() & kdfg_dz_df['grade_11'].isnull() & kdfg_dz_df['grade_12'].isnull() & kdfg_dz_df['ten_type'].isnull(), 'ten_type'] = '沿街店铺'\n",
    "\n",
    "    # 对其它机构进行处理\n",
    "    kdfg_dz_df.loc[kdfg_dz_df['grade_8'].str.contains((r\"政府|法院|银行|局|检察院|医院|卫生院|机构\"), na=False) & kdfg_dz_df['ten_type'].isnull(), 'ten_type'] = '其它机构'\n",
    "    \n",
    "    # 对农村进行处理\n",
    "    kdfg_dz_df.loc[kdfg_dz_df['grade_5'].str.contains((r\".*村$\"), na=False) & kdfg_dz_df['ten_type'].isnull(), 'ten_type'] = '农村'\n",
    "\n",
    "    # 对小区进行处理\n",
    "    kdfg_dz_df.loc[kdfg_dz_df['grade_8'].str.contains((r\"区$|苑$|园$|寓$|房$|轩$|馆$|庄$|府$|村$|乡$|里$\"), na=False) & kdfg_dz_df['ten_type'].isnull(), 'ten_type'] = '小区'\n",
    "                                   \n",
    "    print(\"小区数量：\", kdfg_dz_df[kdfg_dz_df['ten_type'] == '小区'].shape[0])\n",
    "    print(\"农村数量：\", kdfg_dz_df[kdfg_dz_df['ten_type'] == '农村'].shape[0])\n",
    "    print(\"学校数量：\", kdfg_dz_df[kdfg_dz_df['ten_type'] == \"学校\"].shape[0])\n",
    "    print(\"其它机构数量：\", kdfg_dz_df[kdfg_dz_df['ten_type'] == '其它机构'].shape[0])\n",
    "    print(\"沿街店铺数量：\", kdfg_dz_df[kdfg_dz_df['ten_type'] == \"沿街店铺\"].shape[0])\n",
    "    print(\"独立企业数量：\", kdfg_dz_df[kdfg_dz_df['ten_type'] == '独立企业'].shape[0])\n",
    "    print(\"商业楼宇数量：\", kdfg_dz_df[kdfg_dz_df['ten_type'] == '商业楼宇'].shape[0])\n",
    "    print(\"专业市场数量：\", kdfg_dz_df[kdfg_dz_df['ten_type'] == \"专业市场\"].shape[0])\n",
    "    print(\"商住两用数量：\", kdfg_dz_df[kdfg_dz_df['ten_type'] == '商住两用'].shape[0])\n",
    "    print(\"工业园区数量：\", kdfg_dz_df[kdfg_dz_df['ten_type'] == \"工业园区\"].shape[0])\n",
    "    print(\"未分类数量：\", kdfg_dz_df[kdfg_dz_df['ten_type'].isnull()].shape[0])\n",
    "\n",
    "    \n",
    "split2ten(sample)"
   ]
  }
 ],
 "metadata": {
  "kernelspec": {
   "display_name": "Python 3.10.5 ('virtualenv': venv)",
   "language": "python",
   "name": "python3"
  },
  "language_info": {
   "codemirror_mode": {
    "name": "ipython",
    "version": 3
   },
   "file_extension": ".py",
   "mimetype": "text/x-python",
   "name": "python",
   "nbconvert_exporter": "python",
   "pygments_lexer": "ipython3",
   "version": "3.10.5"
  },
  "orig_nbformat": 4,
  "vscode": {
   "interpreter": {
    "hash": "cb63f12dc7f52f810f0947f49e435da0797b328f197778c8dc581129fa544c9c"
   }
  }
 },
 "nbformat": 4,
 "nbformat_minor": 2
}
