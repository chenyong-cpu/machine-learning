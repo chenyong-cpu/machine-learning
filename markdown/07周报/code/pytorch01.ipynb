{
 "cells": [
  {
   "cell_type": "code",
   "execution_count": 2,
   "metadata": {},
   "outputs": [
    {
     "name": "stdout",
     "output_type": "stream",
     "text": [
      "tensor([[1, 2, 3],\n",
      "        [4, 5, 6]])\n",
      "tensor([[1, 2],\n",
      "        [3, 4],\n",
      "        [5, 6]])\n",
      "tensor([[1, 4],\n",
      "        [2, 5],\n",
      "        [3, 6]])\n",
      "tensor([[1, 2, 3],\n",
      "        [4, 5, 6]])\n"
     ]
    }
   ],
   "source": [
    "import torch\n",
    "\n",
    "x = torch.tensor([[1, 2, 3], [4, 5, 6]])\n",
    "\n",
    "print(x)\n",
    "\n",
    "print(x.view(3, 2))\n",
    "print(x.permute(1, 0))\n",
    "print(x.permute(0, 1))"
   ]
  },
  {
   "cell_type": "code",
   "execution_count": 11,
   "metadata": {},
   "outputs": [
    {
     "name": "stdout",
     "output_type": "stream",
     "text": [
      "tensor(247)\n",
      "tensor(263)\n"
     ]
    }
   ],
   "source": [
    "# How to deal with Imbalanced Datasets in PyTorch - Weighted Random Sampler Tutorial\n",
    "import torch\n",
    "import torchvision.datasets as datasets\n",
    "import os\n",
    "from torch.utils.data import WeightedRandomSampler, DataLoader\n",
    "import torchvision.transforms as transforms\n",
    "import torch.nn as nn\n",
    "\n",
    "# 1. Oversampling\n",
    "# 2. Class weighting\n",
    "\n",
    "def get_loader(root_dir, batch_size):\n",
    "    my_transforms = transforms.Compose([\n",
    "        transforms.Resize((224, 224)),\n",
    "        transforms.ToTensor(),\n",
    "    ])\n",
    "\n",
    "    dataset = datasets.ImageFolder(root=root_dir, transform=my_transforms)\n",
    "    class_weights = [1, 50]\n",
    "    for root, subdir, files in os.walk(root_dir):\n",
    "        if len(files) > 0:\n",
    "            class_weights.append(1/len(files))\n",
    "\n",
    "    sample_weights = [0] * len(dataset)\n",
    "\n",
    "    for idx, (data, label) in enumerate(dataset):\n",
    "        class_weight = class_weights[label]\n",
    "        sample_weights[idx] = class_weight\n",
    "    \n",
    "    sampler = WeightedRandomSampler(sample_weights, num_samples=len(sample_weights), replacement=True)\n",
    "    loader = DataLoader(dataset, batch_size=batch_size, sampler=sampler)\n",
    "    return loader\n",
    "\n",
    "loader = get_loader(root_dir=\"../resource/dataset/\", batch_size=8)\n",
    "\n",
    "num_retrievers = 0\n",
    "num_elkhounds = 0\n",
    "\n",
    "for epoch in range(10):\n",
    "    for data, labels in loader:\n",
    "        num_retrievers += torch.sum(labels == 1)\n",
    "        num_elkhounds += torch.sum(labels == 0)\n",
    "    \n",
    "print(num_retrievers)\n",
    "print(num_elkhounds)"
   ]
  }
 ],
 "metadata": {
  "kernelspec": {
   "display_name": "Python 3.10.5 ('virtualenv': venv)",
   "language": "python",
   "name": "python3"
  },
  "language_info": {
   "codemirror_mode": {
    "name": "ipython",
    "version": 3
   },
   "file_extension": ".py",
   "mimetype": "text/x-python",
   "name": "python",
   "nbconvert_exporter": "python",
   "pygments_lexer": "ipython3",
   "version": "3.10.5"
  },
  "orig_nbformat": 4,
  "vscode": {
   "interpreter": {
    "hash": "cb63f12dc7f52f810f0947f49e435da0797b328f197778c8dc581129fa544c9c"
   }
  }
 },
 "nbformat": 4,
 "nbformat_minor": 2
}
