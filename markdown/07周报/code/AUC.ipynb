{
 "cells": [
  {
   "cell_type": "code",
   "execution_count": 1,
   "metadata": {},
   "outputs": [
    {
     "name": "stdout",
     "output_type": "stream",
     "text": [
      "Confusion Matrix: (6, 1, 1, 2)\n"
     ]
    }
   ],
   "source": [
    "# 混淆矩阵计算\n",
    "def binary_confusion_matrix(acts,pres):\n",
    "    TP, FP, TN, FN = 0, 0, 0, 0\n",
    "    for i in range(len(acts)):\n",
    "        if acts[i] == 1 and pres[i] == 1:\n",
    "            TP += 1\n",
    "        if acts[i] == 0 and pres[i] == 1:\n",
    "            FP += 1\n",
    "        if acts[i] == 1 and pres[i] == 0:\n",
    "            FN += 1\n",
    "        if acts[i] == 0 and pres[i] == 0:\n",
    "            TN += 1    \n",
    "    return TP, FP, TN, FN\n",
    "\n",
    "# 实际值\n",
    "acts = [1,1,1,1,1,0,0,1,1,1]\n",
    "# 预测值\n",
    "pres = [1,0,1,1,1,1,0,1,1,0]\n",
    "\n",
    "print(\"Confusion Matrix:\",binary_confusion_matrix(acts,pres))"
   ]
  },
  {
   "cell_type": "code",
   "execution_count": 5,
   "metadata": {},
   "outputs": [
    {
     "name": "stderr",
     "output_type": "stream",
     "text": [
      "findfont: Font family ['Arial Unicode MS'] not found. Falling back to DejaVu Sans.\n"
     ]
    },
    {
     "name": "stdout",
     "output_type": "stream",
     "text": [
      "[[1 1]\n",
      " [2 6]]\n"
     ]
    },
    {
     "name": "stderr",
     "output_type": "stream",
     "text": [
      "findfont: Font family ['Arial Unicode MS'] not found. Falling back to DejaVu Sans.\n",
      "/run/media/mapple/1CBAC92C060AAFDC/visual studio code/研究生/machine-learning/markdown/virtualenv/lib/python3.10/site-packages/IPython/core/pylabtools.py:151: UserWarning: Glyph 28151 (\\N{CJK UNIFIED IDEOGRAPH-6DF7}) missing from current font.\n",
      "  fig.canvas.print_figure(bytes_io, **kw)\n",
      "/run/media/mapple/1CBAC92C060AAFDC/visual studio code/研究生/machine-learning/markdown/virtualenv/lib/python3.10/site-packages/IPython/core/pylabtools.py:151: UserWarning: Glyph 28102 (\\N{CJK UNIFIED IDEOGRAPH-6DC6}) missing from current font.\n",
      "  fig.canvas.print_figure(bytes_io, **kw)\n",
      "/run/media/mapple/1CBAC92C060AAFDC/visual studio code/研究生/machine-learning/markdown/virtualenv/lib/python3.10/site-packages/IPython/core/pylabtools.py:151: UserWarning: Glyph 30697 (\\N{CJK UNIFIED IDEOGRAPH-77E9}) missing from current font.\n",
      "  fig.canvas.print_figure(bytes_io, **kw)\n",
      "/run/media/mapple/1CBAC92C060AAFDC/visual studio code/研究生/machine-learning/markdown/virtualenv/lib/python3.10/site-packages/IPython/core/pylabtools.py:151: UserWarning: Glyph 38453 (\\N{CJK UNIFIED IDEOGRAPH-9635}) missing from current font.\n",
      "  fig.canvas.print_figure(bytes_io, **kw)\n",
      "findfont: Font family ['Arial Unicode MS'] not found. Falling back to DejaVu Sans.\n"
     ]
    },
    {
     "data": {
      "image/png": "[encoded data removed]",
      "text/plain": [
       "<Figure size 432x288 with 2 Axes>"
      ]
     },
     "metadata": {
      "needs_background": "light"
     },
     "output_type": "display_data"
    }
   ],
   "source": [
    "import matplotlib.pyplot as plt\n",
    "import seaborn as sns\n",
    "from sklearn.metrics import confusion_matrix\n",
    "\n",
    "# 实际值\n",
    "acts = [1,1,1,1,1,0,0,1,1,1]\n",
    "# 预测值\n",
    "pres = [1,0,1,1,1,1,0,1,1,0]\n",
    "\n",
    "# 混淆矩阵热点图\n",
    "labels=[0,1]\n",
    "cm = confusion_matrix(acts, pres, labels=labels) \n",
    "print(cm)\n",
    "sns.heatmap(cm, annot = True, annot_kws={'size':20,'weight':'bold', 'color':'blue'})\n",
    "plt.rc('font', family='Arial Unicode MS', size=14)\n",
    "plt.title('混淆矩阵',fontsize=20)\n",
    "plt.xlabel('Predict',fontsize=14)\n",
    "plt.ylabel('Actual',fontsize=14)\n",
    "plt.show()"
   ]
  },
  {
   "cell_type": "code",
   "execution_count": 6,
   "metadata": {},
   "outputs": [
    {
     "name": "stdout",
     "output_type": "stream",
     "text": [
      "Precision, Recall, F1, Accuracy: (0.8571428571428571, 0.75, 0.8, 0.7)\n"
     ]
    }
   ],
   "source": [
    "# 精确率、召回率、F1、准确率\n",
    "def p_r_f1_a(acts,pres):\n",
    "    TP, FP, TN, FN = 0, 0, 0, 0\n",
    "    for i in range(len(acts)):\n",
    "        if acts[i] == 1 and pres[i] == 1:\n",
    "            TP += 1\n",
    "        if acts[i] == 0 and pres[i] == 1:\n",
    "            FP += 1\n",
    "        if acts[i] == 1 and pres[i] == 0:\n",
    "            FN += 1\n",
    "        if acts[i] == 0 and pres[i] == 0:\n",
    "            TN += 1    \n",
    "\n",
    "    # 精确率Precision\n",
    "    P = TP / (TP+FP)\n",
    "\n",
    "    # 召回率Recall\n",
    "    R = TP / (TP+FN)  \n",
    "    \n",
    "    # F1\n",
    "    F1 = 2 / (1/P + 1/R)\n",
    "    \n",
    "    # 准确率Accuracy\n",
    "    A = (TP+TN) / (TP+FP+FN+TN) \n",
    "       \n",
    "    return P, R, F1, A\n",
    "\n",
    "#实际值\n",
    "acts = [1,1,1,1,1,0,0,1,1,1]\n",
    "#预测值\n",
    "pres = [1,0,1,1,1,1,0,1,1,0]\n",
    "\n",
    "print(\"Precision, Recall, F1, Accuracy:\",p_r_f1_a(acts,pres))"
   ]
  },
  {
   "cell_type": "code",
   "execution_count": 7,
   "metadata": {},
   "outputs": [
    {
     "name": "stderr",
     "output_type": "stream",
     "text": [
      "/run/media/mapple/1CBAC92C060AAFDC/visual studio code/研究生/machine-learning/markdown/virtualenv/lib/python3.10/site-packages/IPython/core/pylabtools.py:151: UserWarning: Glyph 26354 (\\N{CJK UNIFIED IDEOGRAPH-66F2}) missing from current font.\n",
      "  fig.canvas.print_figure(bytes_io, **kw)\n",
      "/run/media/mapple/1CBAC92C060AAFDC/visual studio code/研究生/machine-learning/markdown/virtualenv/lib/python3.10/site-packages/IPython/core/pylabtools.py:151: UserWarning: Glyph 32447 (\\N{CJK UNIFIED IDEOGRAPH-7EBF}) missing from current font.\n",
      "  fig.canvas.print_figure(bytes_io, **kw)\n",
      "findfont: Font family ['Arial Unicode MS'] not found. Falling back to DejaVu Sans.\n"
     ]
    },
    {
     "name": "stdout",
     "output_type": "stream",
     "text": [
      "AUC: 0.625\n"
     ]
    },
    {
     "data": {
      "image/png": "[encoded data removed]",
      "text/plain": [
       "<Figure size 432x288 with 1 Axes>"
      ]
     },
     "metadata": {
      "needs_background": "light"
     },
     "output_type": "display_data"
    }
   ],
   "source": [
    "import numpy as np\n",
    "from sklearn import metrics\n",
    "from sklearn.metrics import auc\n",
    "import matplotlib.pyplot as plt\n",
    "\n",
    "# 实际值\n",
    "acts = [1,1,1,1,1,0,0,1,1,1]\n",
    "# 预测值\n",
    "pres = [1,0,1,1,1,1,0,1,1,0]\n",
    "\n",
    "act = np.array(acts)\n",
    "pre = np.array(pres)\n",
    "FPR, TPR, thresholds = metrics.roc_curve(act, pre)\n",
    "AUC = auc(FPR, TPR)\n",
    "print('AUC:',AUC)\n",
    "plt.rc('font', family='Arial Unicode MS', size=14)\n",
    "plt.plot(FPR,TPR,label=\"AUC={:.2f}\" .format(AUC),marker = 'o',color='b',linestyle='--')\n",
    "plt.legend(loc=4, fontsize=10)\n",
    "plt.title('ROC曲线',fontsize=20)\n",
    "plt.xlabel('FPR',fontsize=14)\n",
    "plt.ylabel('TPR',fontsize=14)\n",
    "plt.show()"
   ]
  },
  {
   "cell_type": "code",
   "execution_count": 10,
   "metadata": {},
   "outputs": [
    {
     "name": "stderr",
     "output_type": "stream",
     "text": [
      "/run/media/mapple/1CBAC92C060AAFDC/visual studio code/研究生/machine-learning/markdown/virtualenv/lib/python3.10/site-packages/sklearn/linear_model/_logistic.py:444: ConvergenceWarning: lbfgs failed to converge (status=1):\n",
      "STOP: TOTAL NO. of ITERATIONS REACHED LIMIT.\n",
      "\n",
      "Increase the number of iterations (max_iter) or scale the data as shown in:\n",
      "    https://scikit-learn.org/stable/modules/preprocessing.html\n",
      "Please also refer to the documentation for alternative solver options:\n",
      "    https://scikit-learn.org/stable/modules/linear_model.html#logistic-regression\n",
      "  n_iter_i = _check_optimize_result(\n"
     ]
    },
    {
     "name": "stdout",
     "output_type": "stream",
     "text": [
      "准确率： 0.7922077922077922\n",
      "精确率： 0.7906976744186046\n",
      "召回率： 0.5964912280701754\n"
     ]
    },
    {
     "name": "stderr",
     "output_type": "stream",
     "text": [
      "/run/media/mapple/1CBAC92C060AAFDC/visual studio code/研究生/machine-learning/markdown/virtualenv/lib/python3.10/site-packages/IPython/core/pylabtools.py:151: UserWarning: Glyph 28151 (\\N{CJK UNIFIED IDEOGRAPH-6DF7}) missing from current font.\n",
      "  fig.canvas.print_figure(bytes_io, **kw)\n",
      "/run/media/mapple/1CBAC92C060AAFDC/visual studio code/研究生/machine-learning/markdown/virtualenv/lib/python3.10/site-packages/IPython/core/pylabtools.py:151: UserWarning: Glyph 28102 (\\N{CJK UNIFIED IDEOGRAPH-6DC6}) missing from current font.\n",
      "  fig.canvas.print_figure(bytes_io, **kw)\n",
      "/run/media/mapple/1CBAC92C060AAFDC/visual studio code/研究生/machine-learning/markdown/virtualenv/lib/python3.10/site-packages/IPython/core/pylabtools.py:151: UserWarning: Glyph 30697 (\\N{CJK UNIFIED IDEOGRAPH-77E9}) missing from current font.\n",
      "  fig.canvas.print_figure(bytes_io, **kw)\n",
      "/run/media/mapple/1CBAC92C060AAFDC/visual studio code/研究生/machine-learning/markdown/virtualenv/lib/python3.10/site-packages/IPython/core/pylabtools.py:151: UserWarning: Glyph 38453 (\\N{CJK UNIFIED IDEOGRAPH-9635}) missing from current font.\n",
      "  fig.canvas.print_figure(bytes_io, **kw)\n"
     ]
    },
    {
     "data": {
      "image/png": "[encoded data removed]",
      "text/plain": [
       "<Figure size 432x288 with 2 Axes>"
      ]
     },
     "metadata": {
      "needs_background": "light"
     },
     "output_type": "display_data"
    },
    {
     "name": "stderr",
     "output_type": "stream",
     "text": [
      "/run/media/mapple/1CBAC92C060AAFDC/visual studio code/研究生/machine-learning/markdown/virtualenv/lib/python3.10/site-packages/IPython/core/pylabtools.py:151: UserWarning: Glyph 30382 (\\N{CJK UNIFIED IDEOGRAPH-76AE}) missing from current font.\n",
      "  fig.canvas.print_figure(bytes_io, **kw)\n",
      "/run/media/mapple/1CBAC92C060AAFDC/visual studio code/研究生/machine-learning/markdown/virtualenv/lib/python3.10/site-packages/IPython/core/pylabtools.py:151: UserWarning: Glyph 39532 (\\N{CJK UNIFIED IDEOGRAPH-9A6C}) missing from current font.\n",
      "  fig.canvas.print_figure(bytes_io, **kw)\n",
      "/run/media/mapple/1CBAC92C060AAFDC/visual studio code/研究生/machine-learning/markdown/virtualenv/lib/python3.10/site-packages/IPython/core/pylabtools.py:151: UserWarning: Glyph 21360 (\\N{CJK UNIFIED IDEOGRAPH-5370}) missing from current font.\n",
      "  fig.canvas.print_figure(bytes_io, **kw)\n",
      "/run/media/mapple/1CBAC92C060AAFDC/visual studio code/研究生/machine-learning/markdown/virtualenv/lib/python3.10/site-packages/IPython/core/pylabtools.py:151: UserWarning: Glyph 31532 (\\N{CJK UNIFIED IDEOGRAPH-7B2C}) missing from current font.\n",
      "  fig.canvas.print_figure(bytes_io, **kw)\n",
      "/run/media/mapple/1CBAC92C060AAFDC/visual studio code/研究生/machine-learning/markdown/virtualenv/lib/python3.10/site-packages/IPython/core/pylabtools.py:151: UserWarning: Glyph 23433 (\\N{CJK UNIFIED IDEOGRAPH-5B89}) missing from current font.\n",
      "  fig.canvas.print_figure(bytes_io, **kw)\n",
      "/run/media/mapple/1CBAC92C060AAFDC/visual studio code/研究生/machine-learning/markdown/virtualenv/lib/python3.10/site-packages/IPython/core/pylabtools.py:151: UserWarning: Glyph 20154 (\\N{CJK UNIFIED IDEOGRAPH-4EBA}) missing from current font.\n",
      "  fig.canvas.print_figure(bytes_io, **kw)\n",
      "/run/media/mapple/1CBAC92C060AAFDC/visual studio code/研究生/machine-learning/markdown/virtualenv/lib/python3.10/site-packages/IPython/core/pylabtools.py:151: UserWarning: Glyph 31958 (\\N{CJK UNIFIED IDEOGRAPH-7CD6}) missing from current font.\n",
      "  fig.canvas.print_figure(bytes_io, **kw)\n",
      "/run/media/mapple/1CBAC92C060AAFDC/visual studio code/研究生/machine-learning/markdown/virtualenv/lib/python3.10/site-packages/IPython/core/pylabtools.py:151: UserWarning: Glyph 23615 (\\N{CJK UNIFIED IDEOGRAPH-5C3F}) missing from current font.\n",
      "  fig.canvas.print_figure(bytes_io, **kw)\n",
      "/run/media/mapple/1CBAC92C060AAFDC/visual studio code/研究生/machine-learning/markdown/virtualenv/lib/python3.10/site-packages/IPython/core/pylabtools.py:151: UserWarning: Glyph 30149 (\\N{CJK UNIFIED IDEOGRAPH-75C5}) missing from current font.\n",
      "  fig.canvas.print_figure(bytes_io, **kw)\n",
      "/run/media/mapple/1CBAC92C060AAFDC/visual studio code/研究生/machine-learning/markdown/virtualenv/lib/python3.10/site-packages/IPython/core/pylabtools.py:151: UserWarning: Glyph 25968 (\\N{CJK UNIFIED IDEOGRAPH-6570}) missing from current font.\n",
      "  fig.canvas.print_figure(bytes_io, **kw)\n",
      "/run/media/mapple/1CBAC92C060AAFDC/visual studio code/研究生/machine-learning/markdown/virtualenv/lib/python3.10/site-packages/IPython/core/pylabtools.py:151: UserWarning: Glyph 25454 (\\N{CJK UNIFIED IDEOGRAPH-636E}) missing from current font.\n",
      "  fig.canvas.print_figure(bytes_io, **kw)\n",
      "/run/media/mapple/1CBAC92C060AAFDC/visual studio code/研究生/machine-learning/markdown/virtualenv/lib/python3.10/site-packages/IPython/core/pylabtools.py:151: UserWarning: Glyph 20998 (\\N{CJK UNIFIED IDEOGRAPH-5206}) missing from current font.\n",
      "  fig.canvas.print_figure(bytes_io, **kw)\n",
      "/run/media/mapple/1CBAC92C060AAFDC/visual studio code/研究生/machine-learning/markdown/virtualenv/lib/python3.10/site-packages/IPython/core/pylabtools.py:151: UserWarning: Glyph 31867 (\\N{CJK UNIFIED IDEOGRAPH-7C7B}) missing from current font.\n",
      "  fig.canvas.print_figure(bytes_io, **kw)\n",
      "/run/media/mapple/1CBAC92C060AAFDC/visual studio code/研究生/machine-learning/markdown/virtualenv/lib/python3.10/site-packages/IPython/core/pylabtools.py:151: UserWarning: Glyph 30340 (\\N{CJK UNIFIED IDEOGRAPH-7684}) missing from current font.\n",
      "  fig.canvas.print_figure(bytes_io, **kw)\n",
      "/run/media/mapple/1CBAC92C060AAFDC/visual studio code/研究生/machine-learning/markdown/virtualenv/lib/python3.10/site-packages/IPython/core/pylabtools.py:151: UserWarning: Glyph 21644 (\\N{CJK UNIFIED IDEOGRAPH-548C}) missing from current font.\n",
      "  fig.canvas.print_figure(bytes_io, **kw)\n"
     ]
    },
    {
     "data": {
      "image/png": "[encoded data removed]",
      "text/plain": [
       "<Figure size 500x300 with 1 Axes>"
      ]
     },
     "metadata": {
      "needs_background": "light"
     },
     "output_type": "display_data"
    }
   ],
   "source": [
    "# 任务：是否患有糖尿病（二分类）\n",
    "# 模型：LR\n",
    "# 数据集：皮马人糖尿病数据集\n",
    "import pandas as pd\n",
    "import matplotlib.pyplot as plt\n",
    "import seaborn as sns\n",
    "from sklearn.model_selection import train_test_split\n",
    "from sklearn.linear_model import LogisticRegression\n",
    "from sklearn.metrics import accuracy_score\n",
    "from sklearn.metrics import precision_score\n",
    "from sklearn.metrics import recall_score\n",
    "from sklearn.metrics import classification_report\n",
    "from sklearn.metrics import confusion_matrix\n",
    "from sklearn.metrics import roc_curve\n",
    "from sklearn.metrics import roc_auc_score\n",
    "\n",
    "# 切分数据集\n",
    "df = pd.read_csv(\"../resource/diabetes.csv\")\n",
    "target = df.pop(\"Outcome\")\n",
    "data = df.values\n",
    "X = data\n",
    "Y = target\n",
    "X_train,X_test,Y_train,Y_test = train_test_split(X,Y,test_size = 0.2,random_state = 7)\n",
    "\n",
    "# LR模型预测\n",
    "lr = LogisticRegression()  #初始化LogisticRegression\n",
    "lr.fit(X_train, Y_train)  # 调用LogisticRegression中的fit函数训练模型参数\n",
    "lr_pres = lr.predict(X_test) # 使用训练好的模型lr对X_test进行预测\n",
    "print('准确率：',accuracy_score(Y_test, lr_pres))\n",
    "print('精确率：',precision_score(Y_test, lr_pres))\n",
    "print('召回率：',recall_score(Y_test, lr_pres))\n",
    "\n",
    "# 混淆矩阵热点图\n",
    "labels=[0,1]\n",
    "cm = confusion_matrix(Y_test, lr_pres, labels=labels) \n",
    "sns.heatmap(cm, annot = True, annot_kws={'size':20,'weight':'bold', 'color':'blue'})\n",
    "plt.rc('font', family='Arial Unicode MS', size=14)\n",
    "plt.title('混淆矩阵',fontsize=20)\n",
    "plt.xlabel('Actual',fontsize=14)\n",
    "plt.ylabel('Predict',fontsize=14)\n",
    "plt.show()\n",
    "\n",
    "# ROC曲线和AUC\n",
    "lr_pres_proba = lr.predict_proba(X_test) [::, 1]\n",
    "fpr, tpr, thresholds = roc_curve(Y_test, lr_pres_proba)\n",
    "auc = roc_auc_score(Y_test, lr_pres_proba)\n",
    "plt.figure(figsize=(5, 3), dpi=100)\n",
    "plt.plot(fpr, tpr, label=\"AUC={:.2f}\" .format(auc))\n",
    "plt.legend(loc=4, fontsize=10)\n",
    "plt.title('皮马印第安人糖尿病数据LR分类的ROC和AUC',fontsize=20)\n",
    "plt.xlabel('FPR',fontsize=14)\n",
    "plt.ylabel('TPR',fontsize=14)\n",
    "plt.show()\n"
   ]
  }
 ],
 "metadata": {
  "kernelspec": {
   "display_name": "Python 3.10.5 ('virtualenv': venv)",
   "language": "python",
   "name": "python3"
  },
  "language_info": {
   "codemirror_mode": {
    "name": "ipython",
    "version": 3
   },
   "file_extension": ".py",
   "mimetype": "text/x-python",
   "name": "python",
   "nbconvert_exporter": "python",
   "pygments_lexer": "ipython3",
   "version": "3.10.5"
  },
  "orig_nbformat": 4,
  "vscode": {
   "interpreter": {
    "hash": "cb63f12dc7f52f810f0947f49e435da0797b328f197778c8dc581129fa544c9c"
   }
  }
 },
 "nbformat": 4,
 "nbformat_minor": 2
}
