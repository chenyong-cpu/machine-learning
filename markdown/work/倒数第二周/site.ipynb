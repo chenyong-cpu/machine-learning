{
 "cells": [
  {
   "cell_type": "code",
   "execution_count": 29,
   "metadata": {},
   "outputs": [],
   "source": [
    "import requests\n",
    "import json\n",
    "import numpy as np\n",
    "import pandas as pd\n",
    "\n",
    "\n",
    "# 请求：https://api.map.baidu.com/place/v2/search?query=ATM机&tag=银行&region=北京&output=json&ak=您的ak //GET请求\n",
    "# ak=X7BxcSImUooKNzb6nPftGeBXsuXqpOZA\n",
    "\n",
    "zhejiang_province = ['杭州市上城区', '杭州市钱塘区', '杭州市临平区', '杭州市拱墅区', '杭州市西湖区', '杭州市滨江区', '杭州市萧山区', '杭州市余杭区', '杭州市富阳区', '杭州市临安区', '杭州市桐庐县', '杭州市淳安县', '杭州市建德市', '宁波市海曙区', '宁波市江北区', '宁波市北仑区', '宁波市镇海区', '宁波市鄞州区', '宁波市奉化区', '宁波市象山县', '宁波市宁海县', '宁波市余姚市', '宁波市慈溪市', '温州市鹿城区', '温州市龙湾区', '温州市瓯海区', '温州市洞头区', '温州市永嘉县', '温州市平阳县', '温州市苍南县', '温州市文成县', '温州市泰顺县', '温州市温州经济技术开发区', '温州市瑞安市', '温州市乐清市', '温州市龙港市', '嘉兴市南湖区', '嘉兴市秀洲区', '嘉兴市嘉善县', '嘉兴市海盐县', '嘉兴市海宁市', '嘉兴市平湖市', '嘉兴市桐乡市', '湖州市吴兴区', '湖州市南浔区', '湖州市德清县', '湖州市长兴县', '湖州市安吉县', '绍兴市越城区', '绍兴市柯桥区', '绍兴市上虞区', '绍兴市新昌县', '绍兴市诸暨市', '绍兴市嵊州市', '金华市婺城区', '金华市金东区', '金华市武义县', '金华市浦江县', '金华市磐安县', '金华市兰溪市', '金华市义乌市', '金华市东阳市', '金华市永康市', '衢州市柯城区', '衢州市衢江区', '衢州市常山县', '衢州市开化县', '衢州市龙游县', '衢州市江山市', '舟山市定海区', '舟山市普陀区', '舟山市岱山县', '舟山市嵊泗县', '台州市椒江区', '台州市黄岩区', '台州市路桥区', '台州市三门县', '台州市天台县', '台州市仙居县', '台州市温岭市', '台州市临海市', '台州市玉环市', '丽水市莲都区', '丽水市青田县', '丽水市缙云县', '丽水市遂昌县', '丽水市松阳县', '丽水市云和县', '丽水市庆元县', '丽水市景宁畲族自治县', '丽水市龙泉市']\n",
    "sites = [[\"超市\", \"购物\"], [\"酒店\", \"酒店\"], [\"景区\", \"旅游景点\"], [\"商城\", \"购物\"], [\"广场\", \"购物\"], [\"加油站\", \"交通设施\"]]\n",
    "\n",
    "# 获取网页\n",
    "def askurl(url):\n",
    "    headers = {\n",
    "        \"user-agent\": \"Mozilla/5.0 (Windows NT 10.0; Win64; x64) AppleWebKit/537.36 (KHTML, like Gecko) Chrome/103.0.5060.134 Safari/537.36 Edg/103.0.1264.77\"\n",
    "    }\n",
    "    html = requests.get(url, headers=headers)\n",
    "    return html.text\n",
    "\n",
    "# 获取衢州市地超市进行测试\n",
    "def test():\n",
    "    all_places = []\n",
    "\n",
    "    for county in zhejiang_province:\n",
    "        for site in sites:\n",
    "            url = \"https://api.map.baidu.com/place/v2/search?query=\" + site[0] + \"&tag=\" + site[1] + \"&region=\" + county + \"&output=json&ak=X7BxcSImUooKNzb6nPftGeBXsuXqpOZA\"\n",
    "            text = askurl(url)\n",
    "\n",
    "            # json字符串处理\n",
    "            text = json.loads(text)\n",
    "            if text['status'] == 0:\n",
    "                results = text['results']\n",
    "                for result in results:\n",
    "                    # ['province', 'city', 'area', 'address', 'name', 'lat', 'lng']\n",
    "                    result = [result['province'], result['city'], result['area'], result['address'], result['name'], result['location']['lat'], result['location']['lng'], site[0]]\n",
    "                    all_places.append(result)\n",
    "            else:\n",
    "                continue\n",
    "    \n",
    "    all_places = np.array(all_places)\n",
    "    all_places = pd.DataFrame({'province': all_places[:, 0], 'city': all_places[:, 1], 'area': all_places[:, 2], 'address': all_places[:, 3], 'name': all_places[:, 4], 'lat': all_places[:, 5], 'lng': all_places[:, 6], 'category': all_places[:, 7]})\n",
    "    all_places.to_csv(\"place.csv\")\n",
    "\n",
    "test()"
   ]
  },
  {
   "cell_type": "code",
   "execution_count": 12,
   "metadata": {},
   "outputs": [
    {
     "data": {
      "text/plain": [
       "str"
      ]
     },
     "execution_count": 12,
     "metadata": {},
     "output_type": "execute_result"
    }
   ],
   "source": [
    "type(text)"
   ]
  },
  {
   "cell_type": "code",
   "execution_count": 13,
   "metadata": {},
   "outputs": [
    {
     "data": {
      "text/plain": [
       "{'status': 0,\n",
       " 'message': 'ok',\n",
       " 'result_type': 'poi_type',\n",
       " 'results': [{'name': '大润发(江山店)',\n",
       "   'location': {'lat': 28.751201, 'lng': 118.638508},\n",
       "   'address': '浙江省衢州市江山市安居路98号大润发北广场1楼',\n",
       "   'province': '浙江省',\n",
       "   'city': '衢州市',\n",
       "   'area': '江山市',\n",
       "   'street_id': 'cb4096462e7118742dfaa75c',\n",
       "   'telephone': '(0570)4966666,(0570)4977315',\n",
       "   'detail': 1,\n",
       "   'uid': 'cb4096462e7118742dfaa75c'},\n",
       "  {'name': '东方时代购物中心',\n",
       "   'location': {'lat': 28.734467, 'lng': 118.634445},\n",
       "   'address': '衢州市江山市鹿溪南路365号',\n",
       "   'province': '浙江省',\n",
       "   'city': '衢州市',\n",
       "   'area': '江山市',\n",
       "   'street_id': '9d393b42f5d596f178f7961d',\n",
       "   'telephone': '(0570)4013888',\n",
       "   'detail': 1,\n",
       "   'uid': '9d393b42f5d596f178f7961d'},\n",
       "  {'name': '红塔生活超市(南区店)',\n",
       "   'location': {'lat': 28.730482, 'lng': 118.630609},\n",
       "   'address': '浙江省衢州市江山市虎山街道解放南路92号',\n",
       "   'province': '浙江省',\n",
       "   'city': '衢州市',\n",
       "   'area': '江山市',\n",
       "   'street_id': '6fddd7fdae01347e3517dcd2',\n",
       "   'telephone': '(0570)4021813,(0570)4891111',\n",
       "   'detail': 1,\n",
       "   'uid': '6fddd7fdae01347e3517dcd2'},\n",
       "  {'name': '东方时代购物中心(贺村店)',\n",
       "   'location': {'lat': 28.669883, 'lng': 118.536729},\n",
       "   'address': '浙江省衢州市江山市贺村镇中心南街198幢',\n",
       "   'province': '浙江省',\n",
       "   'city': '衢州市',\n",
       "   'area': '江山市',\n",
       "   'telephone': '(0570)4038222',\n",
       "   'detail': 1,\n",
       "   'uid': '702b6a0eb05cef01581093e8'},\n",
       "  {'name': '东方时代超市(四季青店)',\n",
       "   'location': {'lat': 28.716895, 'lng': 118.622764},\n",
       "   'address': '浙江省衢州市江山市东岳路489号d区',\n",
       "   'province': '浙江省',\n",
       "   'city': '衢州市',\n",
       "   'area': '江山市',\n",
       "   'street_id': '1080470a9ceadd2400ff2da6',\n",
       "   'telephone': '(0570)4038555',\n",
       "   'detail': 1,\n",
       "   'uid': '1080470a9ceadd2400ff2da6'},\n",
       "  {'name': '金山坡超市',\n",
       "   'location': {'lat': 28.834276, 'lng': 118.692302},\n",
       "   'address': '四都镇金山村69号',\n",
       "   'province': '浙江省',\n",
       "   'city': '衢州市',\n",
       "   'area': '江山市',\n",
       "   'telephone': '13626702979',\n",
       "   'detail': 1,\n",
       "   'uid': 'a66cae4c09820ea9a6da39b4'},\n",
       "  {'name': '东方时代超市(学府店)',\n",
       "   'location': {'lat': 28.756054, 'lng': 118.643118},\n",
       "   'address': '浙江省衢州市江山市学府街180号',\n",
       "   'province': '浙江省',\n",
       "   'city': '衢州市',\n",
       "   'area': '江山市',\n",
       "   'street_id': 'd1db3bc1652197debe48423b',\n",
       "   'telephone': '(0570)4038753',\n",
       "   'detail': 1,\n",
       "   'uid': 'd1db3bc1652197debe48423b'},\n",
       "  {'name': '众佰联义乌小商品直销超市(江山店)',\n",
       "   'location': {'lat': 28.741856, 'lng': 118.632907},\n",
       "   'address': '浙江省衢州市江山市解放路15号1楼',\n",
       "   'province': '浙江省',\n",
       "   'city': '衢州市',\n",
       "   'area': '江山市',\n",
       "   'street_id': '88a0b40f15ee81d9b817e76b',\n",
       "   'detail': 1,\n",
       "   'uid': '88a0b40f15ee81d9b817e76b'},\n",
       "  {'name': '施玛乐购物城',\n",
       "   'location': {'lat': 28.759332, 'lng': 118.651586},\n",
       "   'address': '衢州市江山市鹿溪北路江山贝林医院东北侧约50米',\n",
       "   'province': '浙江省',\n",
       "   'city': '衢州市',\n",
       "   'area': '江山市',\n",
       "   'street_id': '4062caa3607adf6b902ca3e6',\n",
       "   'detail': 1,\n",
       "   'uid': '4062caa3607adf6b902ca3e6'},\n",
       "  {'name': '东方生活中心',\n",
       "   'location': {'lat': 28.770662, 'lng': 118.656513},\n",
       "   'address': '浙江省衢州市江山市锦绣大道8号江山东方广场F1',\n",
       "   'province': '浙江省',\n",
       "   'city': '衢州市',\n",
       "   'area': '江山市',\n",
       "   'street_id': '4be3474414bbb80c364aae0a',\n",
       "   'detail': 1,\n",
       "   'uid': '4be3474414bbb80c364aae0a'}]}"
      ]
     },
     "execution_count": 13,
     "metadata": {},
     "output_type": "execute_result"
    }
   ],
   "source": [
    "text = json.loads(text)\n",
    "text"
   ]
  },
  {
   "cell_type": "code",
   "execution_count": 24,
   "metadata": {},
   "outputs": [
    {
     "data": {
      "text/plain": [
       "int"
      ]
     },
     "execution_count": 24,
     "metadata": {},
     "output_type": "execute_result"
    }
   ],
   "source": [
    "text['results']\n",
    "type(text['status'])"
   ]
  },
  {
   "cell_type": "code",
   "execution_count": 28,
   "metadata": {},
   "outputs": [
    {
     "name": "stdout",
     "output_type": "stream",
     "text": [
      "大润发(江山店)\n",
      "28.751201\n",
      "东方时代购物中心\n",
      "28.734467\n",
      "红塔生活超市(南区店)\n",
      "28.730482\n",
      "东方时代购物中心(贺村店)\n",
      "28.669883\n",
      "东方时代超市(四季青店)\n",
      "28.716895\n",
      "金山坡超市\n",
      "28.834276\n",
      "东方时代超市(学府店)\n",
      "28.756054\n",
      "众佰联义乌小商品直销超市(江山店)\n",
      "28.741856\n",
      "施玛乐购物城\n",
      "28.759332\n",
      "东方生活中心\n",
      "28.770662\n",
      "{'name': '大润发(江山店)', 'location': {'lat': 28.751201, 'lng': 118.638508}, 'address': '浙江省衢州市江山市安居路98号大润发北广场1楼', 'province': '浙江省', 'city': '衢州市', 'area': '江山市', 'street_id': 'cb4096462e7118742dfaa75c', 'telephone': '(0570)4966666,(0570)4977315', 'detail': 1, 'uid': 'cb4096462e7118742dfaa75c'}\n",
      "['浙江省', '衢州市', '江山市', '浙江省衢州市江山市安居路98号大润发北广场1楼', '大润发(江山店)', 28.751201, 118.638508]\n",
      "{'name': '东方时代购物中心', 'location': {'lat': 28.734467, 'lng': 118.634445}, 'address': '衢州市江山市鹿溪南路365号', 'province': '浙江省', 'city': '衢州市', 'area': '江山市', 'street_id': '9d393b42f5d596f178f7961d', 'telephone': '(0570)4013888', 'detail': 1, 'uid': '9d393b42f5d596f178f7961d'}\n",
      "['浙江省', '衢州市', '江山市', '衢州市江山市鹿溪南路365号', '东方时代购物中心', 28.734467, 118.634445]\n",
      "{'name': '红塔生活超市(南区店)', 'location': {'lat': 28.730482, 'lng': 118.630609}, 'address': '浙江省衢州市江山市虎山街道解放南路92号', 'province': '浙江省', 'city': '衢州市', 'area': '江山市', 'street_id': '6fddd7fdae01347e3517dcd2', 'telephone': '(0570)4021813,(0570)4891111', 'detail': 1, 'uid': '6fddd7fdae01347e3517dcd2'}\n",
      "['浙江省', '衢州市', '江山市', '浙江省衢州市江山市虎山街道解放南路92号', '红塔生活超市(南区店)', 28.730482, 118.630609]\n",
      "{'name': '东方时代购物中心(贺村店)', 'location': {'lat': 28.669883, 'lng': 118.536729}, 'address': '浙江省衢州市江山市贺村镇中心南街198幢', 'province': '浙江省', 'city': '衢州市', 'area': '江山市', 'telephone': '(0570)4038222', 'detail': 1, 'uid': '702b6a0eb05cef01581093e8'}\n",
      "['浙江省', '衢州市', '江山市', '浙江省衢州市江山市贺村镇中心南街198幢', '东方时代购物中心(贺村店)', 28.669883, 118.536729]\n",
      "{'name': '东方时代超市(四季青店)', 'location': {'lat': 28.716895, 'lng': 118.622764}, 'address': '浙江省衢州市江山市东岳路489号d区', 'province': '浙江省', 'city': '衢州市', 'area': '江山市', 'street_id': '1080470a9ceadd2400ff2da6', 'telephone': '(0570)4038555', 'detail': 1, 'uid': '1080470a9ceadd2400ff2da6'}\n",
      "['浙江省', '衢州市', '江山市', '浙江省衢州市江山市东岳路489号d区', '东方时代超市(四季青店)', 28.716895, 118.622764]\n",
      "{'name': '金山坡超市', 'location': {'lat': 28.834276, 'lng': 118.692302}, 'address': '四都镇金山村69号', 'province': '浙江省', 'city': '衢州市', 'area': '江山市', 'telephone': '13626702979', 'detail': 1, 'uid': 'a66cae4c09820ea9a6da39b4'}\n",
      "['浙江省', '衢州市', '江山市', '四都镇金山村69号', '金山坡超市', 28.834276, 118.692302]\n",
      "{'name': '东方时代超市(学府店)', 'location': {'lat': 28.756054, 'lng': 118.643118}, 'address': '浙江省衢州市江山市学府街180号', 'province': '浙江省', 'city': '衢州市', 'area': '江山市', 'street_id': 'd1db3bc1652197debe48423b', 'telephone': '(0570)4038753', 'detail': 1, 'uid': 'd1db3bc1652197debe48423b'}\n",
      "['浙江省', '衢州市', '江山市', '浙江省衢州市江山市学府街180号', '东方时代超市(学府店)', 28.756054, 118.643118]\n",
      "{'name': '众佰联义乌小商品直销超市(江山店)', 'location': {'lat': 28.741856, 'lng': 118.632907}, 'address': '浙江省衢州市江山市解放路15号1楼', 'province': '浙江省', 'city': '衢州市', 'area': '江山市', 'street_id': '88a0b40f15ee81d9b817e76b', 'detail': 1, 'uid': '88a0b40f15ee81d9b817e76b'}\n",
      "['浙江省', '衢州市', '江山市', '浙江省衢州市江山市解放路15号1楼', '众佰联义乌小商品直销超市(江山店)', 28.741856, 118.632907]\n",
      "{'name': '施玛乐购物城', 'location': {'lat': 28.759332, 'lng': 118.651586}, 'address': '衢州市江山市鹿溪北路江山贝林医院东北侧约50米', 'province': '浙江省', 'city': '衢州市', 'area': '江山市', 'street_id': '4062caa3607adf6b902ca3e6', 'detail': 1, 'uid': '4062caa3607adf6b902ca3e6'}\n",
      "['浙江省', '衢州市', '江山市', '衢州市江山市鹿溪北路江山贝林医院东北侧约50米', '施玛乐购物城', 28.759332, 118.651586]\n",
      "{'name': '东方生活中心', 'location': {'lat': 28.770662, 'lng': 118.656513}, 'address': '浙江省衢州市江山市锦绣大道8号江山东方广场F1', 'province': '浙江省', 'city': '衢州市', 'area': '江山市', 'street_id': '4be3474414bbb80c364aae0a', 'detail': 1, 'uid': '4be3474414bbb80c364aae0a'}\n",
      "['浙江省', '衢州市', '江山市', '浙江省衢州市江山市锦绣大道8号江山东方广场F1', '东方生活中心', 28.770662, 118.656513]\n"
     ]
    }
   ],
   "source": [
    "for result in text['results']:\n",
    "    print(result['name'])\n",
    "    print(result['location']['lat'])\n",
    "\n",
    "for result in text['results']:\n",
    "    print(result)\n",
    "    result = [result['province'], result['city'], result['area'], result['address'], result['name'], result['location']['lat'], result['location']['lng']]\n",
    "    print(result)"
   ]
  }
 ],
 "metadata": {
  "kernelspec": {
   "display_name": "Python 3.10.0 ('jupyter': venv)",
   "language": "python",
   "name": "python3"
  },
  "language_info": {
   "codemirror_mode": {
    "name": "ipython",
    "version": 3
   },
   "file_extension": ".py",
   "mimetype": "text/x-python",
   "name": "python",
   "nbconvert_exporter": "python",
   "pygments_lexer": "ipython3",
   "version": "3.10.0"
  },
  "orig_nbformat": 4,
  "vscode": {
   "interpreter": {
    "hash": "141c5e0ba87e97013844de5b21d12d023199bf67a08052ba51b9f2de1a481a39"
   }
  }
 },
 "nbformat": 4,
 "nbformat_minor": 2
}
