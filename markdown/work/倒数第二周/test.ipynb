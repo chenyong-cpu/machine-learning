{
 "cells": [
  {
   "cell_type": "code",
   "execution_count": 20,
   "metadata": {},
   "outputs": [
    {
     "name": "stdout",
     "output_type": "stream",
     "text": [
      "-1.1363623846619068e-10\n",
      "通过一致性检验\n",
      "权重得分：1得分=0.09523809522108843\n",
      "权重得分：2得分=0.09523809522108843\n",
      "权重得分：3得分=0.09523809522108843\n",
      "权重得分：4得分=0.14285714286734694\n",
      "权重得分：5得分=0.2857142857346938\n",
      "权重得分：6得分=0.28571428573469393\n"
     ]
    }
   ],
   "source": [
    "#层次分析法完整代码：\n",
    "import numpy as np\n",
    "\n",
    "#计算特征向量和最大特征值\n",
    "a=np.array([[1,1,2,3,3,3],[1,1,2,3,3,3]\n",
    "            ,[0.5,0.5,1,1.5,1.5,1.5],[0.333333333,0.333333333,0.666666667,1,1,1]\n",
    "            ,[0.333333333,0.333333333,0.666666667,1,1,1],[0.333333333,0.333333333,0.666666667,1,1,1]])   #a为自己构造的输入判别矩阵\n",
    "w=np.linalg.eig(a)   #np.linalg.eig(matri)返回特征值和特征向量\n",
    "tzz=np.max(w[0])   #最大特征值\n",
    "t=np.argwhere(w[0]==tzz) #寻找最大特征值所在的行和列\n",
    "tzx=w[1][::-1,t[0]]    #最大特征值对应的特征向量\n",
    "\n",
    "#一致性检验\n",
    "RILIST=[0,0,0.58,0.9,1.12,1.24,1.32,1.41,1.45,1.49,1.52,1.54,1.56,1.58,1.59]\n",
    "n=a.shape[0]\n",
    "RI=RILIST[n]\n",
    "CI=(tzz-n)/(n-1)\n",
    "CR=CI/RI\n",
    "print(CR)\n",
    "print(\"通过一致性检验\") if CR<0.1 else print(\"没有通过一致性检验\")\n",
    "\n",
    "#P=np.array([[8,7,6,8],[7,8,8,7]])  #每一行代表一个对象的指标评分\n",
    "\n",
    "#赋权重\n",
    "quan=np.zeros((n,1));\n",
    "quan=tzx/sum(tzx)\n",
    "Q=quan\n",
    "for i in range(len(Q)):\n",
    "    print('权重得分：{:}得分={:}'.format(i+1,Q[i,0].real))\n",
    "# print('权重得分：',Q)\n",
    "#显示出所有评分对象的评分值\n",
    "# score=np.dot(P,Q)    #矩阵乘法\n",
    "# for i in range(len(score)):\n",
    "#     print('对象{:}得分={:}'.format(i+1,score[i,0].real))\n"
   ]
  }
 ],
 "metadata": {
  "kernelspec": {
   "display_name": "Python 3.8.8 ('base')",
   "language": "python",
   "name": "python3"
  },
  "language_info": {
   "codemirror_mode": {
    "name": "ipython",
    "version": 3
   },
   "file_extension": ".py",
   "mimetype": "text/x-python",
   "name": "python",
   "nbconvert_exporter": "python",
   "pygments_lexer": "ipython3",
   "version": "3.8.8"
  },
  "orig_nbformat": 4,
  "vscode": {
   "interpreter": {
    "hash": "462523740717b36e1fff58854bcd912b7825fafc73ca49b50bef0b4058c89789"
   }
  }
 },
 "nbformat": 4,
 "nbformat_minor": 2
}
