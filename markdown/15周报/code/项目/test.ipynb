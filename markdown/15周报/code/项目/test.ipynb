{
 "cells": [
  {
   "cell_type": "code",
   "execution_count": 12,
   "metadata": {},
   "outputs": [],
   "source": [
    "def forward_cn2an_one(inputs):\n",
    "    number_map = {\n",
    "    \"零\": 0,\n",
    "    \"一\": 1,\n",
    "    \"二\": 2,\n",
    "    \"三\": 3,\n",
    "    \"四\": 4,\n",
    "    \"五\": 5,\n",
    "    \"六\": 6,\n",
    "    \"七\": 7,\n",
    "    \"八\": 8,\n",
    "    \"九\": 9\n",
    "    }\n",
    "\n",
    "    unit_map = {\n",
    "    \"十\": 10,\n",
    "    \"百\": 100,\n",
    "    \"千\": 1000,\n",
    "    \"万\": 10000,\n",
    "    \"亿\": 100000000\n",
    "    }\n",
    "\n",
    "    output = 0\n",
    "    unit = 1\n",
    "    num = 0\n",
    "    for index, cn_num in enumerate(inputs):\n",
    "        if cn_num in number_map:\n",
    "            # 数字\n",
    "            num = number_map[cn_num]\n",
    "            # 最后的个位数字\n",
    "            if index == len(inputs) - 1:\n",
    "                output = output + num\n",
    "        elif cn_num in unit_map:\n",
    "            # 单位\n",
    "            unit = unit_map[cn_num]\n",
    "            # 累加\n",
    "            output = output + num * unit\n",
    "            num = 0\n",
    "        else:\n",
    "            raise ValueError(f\"{cn_num} 不在转化范围内\")\n",
    "\n",
    "    return output\n",
    "\n",
    "\n",
    "def translate_chinese_to_number(inputs):\n",
    "    new_str = ''\n",
    "    str_number = ''\n",
    "    chinese_number = ['零', '一', '二', '三', '四', '五', '六', '七', '八', '九', '十', '百', '千', '万', '亿']\n",
    "    for i in range(inputs.__len__()):\n",
    "        if inputs[i] in chinese_number: str_number += inputs[i]\n",
    "        else:\n",
    "            if str_number.__len__() == 0: \n",
    "                new_str += inputs[i]\n",
    "                continue\n",
    "            else:\n",
    "                new_str += str(forward_cn2an_one(str_number)) + inputs[i]\n",
    "                str_number = ''\n",
    "    return new_str"
   ]
  },
  {
   "cell_type": "code",
   "execution_count": 15,
   "metadata": {},
   "outputs": [
    {
     "data": {
      "text/plain": [
       "'号3900街道'"
      ]
     },
     "execution_count": 15,
     "metadata": {},
     "output_type": "execute_result"
    }
   ],
   "source": [
    "translate_chinese_to_number('号三千九百街道')"
   ]
  }
 ],
 "metadata": {
  "kernelspec": {
   "display_name": "Python 3.10.0 ('jupyter': venv)",
   "language": "python",
   "name": "python3"
  },
  "language_info": {
   "codemirror_mode": {
    "name": "ipython",
    "version": 3
   },
   "file_extension": ".py",
   "mimetype": "text/x-python",
   "name": "python",
   "nbconvert_exporter": "python",
   "pygments_lexer": "ipython3",
   "version": "3.10.0"
  },
  "orig_nbformat": 4,
  "vscode": {
   "interpreter": {
    "hash": "141c5e0ba87e97013844de5b21d12d023199bf67a08052ba51b9f2de1a481a39"
   }
  }
 },
 "nbformat": 4,
 "nbformat_minor": 2
}
