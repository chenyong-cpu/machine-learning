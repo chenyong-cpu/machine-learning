{
 "cells": [
  {
   "cell_type": "code",
   "execution_count": 1,
   "metadata": {},
   "outputs": [
    {
     "data": {
      "text/plain": [
       "['ate',\n",
       " 'take',\n",
       " 'stupid',\n",
       " 'so',\n",
       " 'licks',\n",
       " 'him',\n",
       " 'garbage',\n",
       " 'my',\n",
       " 'maybe',\n",
       " 'how',\n",
       " 'dog',\n",
       " 'please',\n",
       " 'not',\n",
       " 'is',\n",
       " 'dalmation',\n",
       " 'problems',\n",
       " 'flea',\n",
       " 'worthless',\n",
       " 'quit',\n",
       " 'buying',\n",
       " 'park',\n",
       " 'stop',\n",
       " 'food',\n",
       " 'cute',\n",
       " 'has',\n",
       " 'I',\n",
       " 'help',\n",
       " 'mr',\n",
       " 'love',\n",
       " 'to',\n",
       " 'steak',\n",
       " 'posting']"
      ]
     },
     "execution_count": 1,
     "metadata": {},
     "output_type": "execute_result"
    }
   ],
   "source": [
    "# 准备数据:从文本中构建词向量\n",
    "def loadDataSet():\n",
    "    postingList = [['my', 'dog', 'has', 'flea', 'problems', 'help', 'please'],\n",
    "    ['maybe', 'not', 'take', 'him', 'to', 'dog', 'park', 'stupid'], ['my', 'dalmation', 'is', 'so', 'cute', 'I', 'love', 'him'], ['stop', 'posting', 'stupid', 'worthless', 'garbage'], ['mr', 'licks', 'ate', 'my', 'steak', 'how', 'to', 'stop', 'him'], ['quit', 'buying', 'worthless', 'dog', 'food', 'stupid']]\n",
    "    # 1代表侮辱性文字,0代表正常言论\n",
    "    classVec = [0, 1, 0, 1, 0, 1]\n",
    "    return postingList, classVec\n",
    "\n",
    "def createVocabList(dataSet):\n",
    "    vocabSet = set([])\n",
    "    for document in dataSet:\n",
    "        vocabSet = vocabSet | set(document)\n",
    "    return list(vocabSet)\n",
    "\n",
    "def setOfWords2Vec(vocabList, inputSet):\n",
    "    returnVec = [0] * len(vocabList)\n",
    "    for word in inputSet:\n",
    "        if word in vocabList:\n",
    "            returnVec[vocabList.index(word)] = 1\n",
    "        else:\n",
    "            print(\"the word, %s is not in my Vocabulary\" % word)\n",
    "    return returnVec\n",
    "\n",
    "listOPosts, listClasses = loadDataSet()\n",
    "myVocabList = createVocabList(listOPosts)\n",
    "myVocabList"
   ]
  },
  {
   "cell_type": "code",
   "execution_count": 5,
   "metadata": {},
   "outputs": [],
   "source": [
    "from numpy import *\n",
    "\n",
    "def trainNB0(trainMatrix, trainCategory):\n",
    "    numTrainDocs = len(trainMatrix)\n",
    "    numWords = len(trainMatrix[0])\n",
    "    pAbusive = sum(trainCategory) / float(numTrainDocs)\n",
    "    # 初始化概率\n",
    "    p0Num = ones(numWords); p1Num = ones(numWords)\n",
    "    p0Denom = 2.0; p1Denom = 2.0\n",
    "    for i in range(numTrainDocs):\n",
    "        if trainCategory[i] == 1:\n",
    "            p1Num += trainMatrix[i]\n",
    "            p1Denom += sum(trainMatrix[i])\n",
    "        else:\n",
    "            p0Num += trainMatrix[i]\n",
    "            p0Denom += sum(trainMatrix[i])\n",
    "    p1Vect = log(p1Num / p1Denom)\n",
    "    p0Vect = log(p0Num / p0Denom)\n",
    "    return p0Vect, p1Vect, pAbusive"
   ]
  },
  {
   "cell_type": "code",
   "execution_count": 6,
   "metadata": {},
   "outputs": [
    {
     "data": {
      "text/plain": [
       "(array([-2.56494936, -3.25809654, -3.25809654, -2.56494936, -2.56494936,\n",
       "        -2.15948425, -3.25809654, -1.87180218, -3.25809654, -2.56494936,\n",
       "        -2.56494936, -2.56494936, -3.25809654, -2.56494936, -2.56494936,\n",
       "        -2.56494936, -2.56494936, -3.25809654, -3.25809654, -3.25809654,\n",
       "        -3.25809654, -2.56494936, -3.25809654, -2.56494936, -2.56494936,\n",
       "        -2.56494936, -2.56494936, -2.56494936, -2.56494936, -2.56494936,\n",
       "        -2.56494936, -3.25809654]),\n",
       " array([-3.04452244, -2.35137526, -1.65822808, -3.04452244, -3.04452244,\n",
       "        -2.35137526, -2.35137526, -3.04452244, -2.35137526, -3.04452244,\n",
       "        -1.94591015, -3.04452244, -2.35137526, -3.04452244, -3.04452244,\n",
       "        -3.04452244, -3.04452244, -1.94591015, -2.35137526, -2.35137526,\n",
       "        -2.35137526, -2.35137526, -2.35137526, -3.04452244, -3.04452244,\n",
       "        -3.04452244, -3.04452244, -3.04452244, -3.04452244, -2.35137526,\n",
       "        -3.04452244, -2.35137526]))"
      ]
     },
     "execution_count": 6,
     "metadata": {},
     "output_type": "execute_result"
    }
   ],
   "source": [
    "trainMat = []\n",
    "for postinDoc in listOPosts:\n",
    "    trainMat.append(setOfWords2Vec(myVocabList, postinDoc))\n",
    "p0V, p1V, pAb = trainNB0(trainMat, listClasses)\n",
    "pAb\n",
    "(p0V, p1V)"
   ]
  },
  {
   "cell_type": "code",
   "execution_count": 7,
   "metadata": {},
   "outputs": [
    {
     "name": "stdout",
     "output_type": "stream",
     "text": [
      "['love', 'my', 'dalmation']  classified as:  0\n",
      "['stupid', 'garbage']  classified as:  1\n"
     ]
    }
   ],
   "source": [
    "# 朴素贝叶斯分类函数\n",
    "def classifyNB(vec2Classify, p0Vec, p1Vec, pClass1):\n",
    "    p1 = sum(vec2Classify * p1Vec) + log(pClass1)\n",
    "    p0 = sum(vec2Classify * p0Vec) + log(1.0 - pClass1)\n",
    "    if p1 > p0:\n",
    "        return 1\n",
    "    else:\n",
    "        return 0\n",
    "\n",
    "def testingNB():\n",
    "    lostOPosts, listClasses = loadDataSet()\n",
    "    myVocabList = createVocabList(lostOPosts)\n",
    "    trainMat = []\n",
    "    for postinDoc in listOPosts:\n",
    "        trainMat.append(setOfWords2Vec(myVocabList, postinDoc))\n",
    "    p0V, p1V, pAb = trainNB0(array(trainMat), array(listClasses))\n",
    "    testEntry = ['love', 'my', 'dalmation']\n",
    "    thisDoc = array(setOfWords2Vec(myVocabList, testEntry))\n",
    "    print(testEntry, \" classified as: \", classifyNB(thisDoc, p0V, p1V, pAb))\n",
    "    testEntry = ['stupid', 'garbage']\n",
    "    thisDoc = array(setOfWords2Vec(myVocabList, testEntry))\n",
    "    print(testEntry, \" classified as: \", classifyNB(thisDoc, p0V, p1V, pAb))\n",
    "\n",
    "testingNB()\n",
    "\n",
    "# 文档词袋模型\n",
    "def bagOfWordsVecMN(vocabList, inputSet):\n",
    "    returnVec = [0] * len(vocabList)\n",
    "    for word in inputSet:\n",
    "        if word in vocabList:\n",
    "            returnVec[vocabList.index(word)] += 1\n",
    "    return returnVec"
   ]
  }
 ],
 "metadata": {
  "interpreter": {
   "hash": "e7370f93d1d0cde622a1f8e1c04877d8463912d04d973331ad4851f04de6915a"
  },
  "kernelspec": {
   "display_name": "Python 3.10.4 64-bit",
   "language": "python",
   "name": "python3"
  },
  "language_info": {
   "codemirror_mode": {
    "name": "ipython",
    "version": 3
   },
   "file_extension": ".py",
   "mimetype": "text/x-python",
   "name": "python",
   "nbconvert_exporter": "python",
   "pygments_lexer": "ipython3",
   "version": "3.10.4"
  },
  "orig_nbformat": 4
 },
 "nbformat": 4,
 "nbformat_minor": 2
}
