{
 "cells": [
  {
   "cell_type": "code",
   "execution_count": null,
   "metadata": {},
   "outputs": [],
   "source": [
    "from numpy import *\n",
    "\n",
    "def kernelTrans(X, A, kTup):\n",
    "    m, n = shape(x)\n",
    "    K = mat(zeros((m, 1)))\n",
    "    if kTup[0] == 'lin': k = X * A.T\n",
    "    elif kTup[0] == 'rbf':\n",
    "        for j in range(m):\n",
    "            deltaRow = X[j, :] - A\n",
    "            k[j] = deltaRow * deltaRow.T\n",
    "        k = exp(K / (-1 * kTup[1]**2))\n",
    "    else: raise NameError(\"We have a problem\")\n",
    "    return K\n",
    "\n",
    "class optStruct:\n",
    "    def __init__(self, dataMatIn, classLabels, C, toler, kTup):\n",
    "        self.X = dataMatIn\n",
    "        self.labelMat = classLabels\n",
    "        self.C = C\n",
    "        self.tol = toler\n",
    "        self.m = shape(dataMatIn)[0]\n",
    "        self.alphas = mat(zeros((self.m, 1)))\n",
    "        self.b = 0\n",
    "        self.eCache = mat(zeros((self.m, 2)))\n",
    "        self.K = mat(zeros(self.m, self.m))\n",
    "        for i in range(self.m):\n",
    "            self.k[:, i] = kernelTrans(self.X, self.X[i, :], kTup)"
   ]
  }
 ],
 "metadata": {
  "language_info": {
   "name": "python"
  },
  "orig_nbformat": 4
 },
 "nbformat": 4,
 "nbformat_minor": 2
}
