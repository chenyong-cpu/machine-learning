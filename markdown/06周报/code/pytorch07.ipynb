{
 "cells": [
  {
   "cell_type": "code",
   "execution_count": 1,
   "metadata": {},
   "outputs": [],
   "source": [
    "# 1. Didn't overfit a single Batch\n",
    "# Unless you want to save time\n",
    "\n",
    "# 2. Forget to set training or eval\n",
    "\n",
    "# 3. Forget to zero_grad()\n",
    "\n",
    "# 4. Softmax with Cross Entropy\n",
    "\n",
    "# 5. Bias term with BatchNorm\n",
    "\n",
    "# 6. Using view as permute\n",
    "\n",
    "# 7. Incorrent Data Augmentation\n",
    "\n",
    "# 8. Not Shuffing Data\n",
    "\n",
    "# 9. Note Normalizing Data\n",
    "\n",
    "# 10. Not CLipping Gradients"
   ]
  },
  {
   "cell_type": "code",
   "execution_count": null,
   "metadata": {},
   "outputs": [],
   "source": []
  }
 ],
 "metadata": {
  "kernelspec": {
   "display_name": "Python 3.10.5 ('virtualenv': venv)",
   "language": "python",
   "name": "python3"
  },
  "language_info": {
   "codemirror_mode": {
    "name": "ipython",
    "version": 3
   },
   "file_extension": ".py",
   "mimetype": "text/x-python",
   "name": "python",
   "nbconvert_exporter": "python",
   "pygments_lexer": "ipython3",
   "version": "3.10.5"
  },
  "orig_nbformat": 4,
  "vscode": {
   "interpreter": {
    "hash": "cb63f12dc7f52f810f0947f49e435da0797b328f197778c8dc581129fa544c9c"
   }
  }
 },
 "nbformat": 4,
 "nbformat_minor": 2
}
