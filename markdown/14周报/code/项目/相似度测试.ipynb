{
 "cells": [
  {
   "cell_type": "code",
   "execution_count": 8,
   "metadata": {},
   "outputs": [
    {
     "name": "stdout",
     "output_type": "stream",
     "text": [
      "MatchedResult(\n",
      "\tdoc1=Document(terms=[Term(延川路)], town=None, village=None, road=Term(延川路), roadNum=None, roadNumValue=0), \n",
      "\tdoc2=Document(terms=[Term(延川路)], town=None, village=None, road=Term(延川路), roadNum=None, roadNumValue=0), \n",
      "\tterms=['MatchedTerm(Term(延川路), coord=-1.0, density=-1.0, boost=2.0, tfidf=8.0)'], \n",
      "\tsimilarity=1.0\n",
      ")\n"
     ]
    }
   ],
   "source": [
    "from GeocodingCHN import Geocoding\n",
    "\n",
    "text1 = '山东省青岛市李沧区延川路' # 绿城城园东区6幢7号楼2单元802户\n",
    "text2 = '山东青岛李沧区延川路' # 绿城城园西区7-2-802\n",
    "Address_1 = Geocoding().normalizing(address=text1)\n",
    "Address_2 = Geocoding().normalizing(address=text2)\n",
    "similar = Geocoding().similarityWithResult(Address_1, Address_2)\n",
    "print(similar)\n",
    "# text3 = '杭州市西湖区北山街道沿山河社区沿山河新村22号楼2幢'\n",
    "# Address_3 = Geocoding().normalizing(address=text3)\n",
    "# print(Address_3)"
   ]
  }
 ],
 "metadata": {
  "kernelspec": {
   "display_name": "Python 3.10.0 ('jupyter': venv)",
   "language": "python",
   "name": "python3"
  },
  "language_info": {
   "codemirror_mode": {
    "name": "ipython",
    "version": 3
   },
   "file_extension": ".py",
   "mimetype": "text/x-python",
   "name": "python",
   "nbconvert_exporter": "python",
   "pygments_lexer": "ipython3",
   "version": "3.10.0"
  },
  "orig_nbformat": 4,
  "vscode": {
   "interpreter": {
    "hash": "141c5e0ba87e97013844de5b21d12d023199bf67a08052ba51b9f2de1a481a39"
   }
  }
 },
 "nbformat": 4,
 "nbformat_minor": 2
}
