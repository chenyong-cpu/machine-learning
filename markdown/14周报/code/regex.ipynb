{
 "cells": [
  {
   "cell_type": "code",
   "execution_count": 1,
   "metadata": {},
   "outputs": [],
   "source": [
    "import pandas as pd\n",
    "\n",
    "a = None"
   ]
  },
  {
   "cell_type": "code",
   "execution_count": 15,
   "metadata": {},
   "outputs": [
    {
     "name": "stdout",
     "output_type": "stream",
     "text": [
      "5\n",
      "4\n",
      "3\n",
      "2\n",
      "1\n"
     ]
    },
    {
     "data": {
      "text/plain": [
       "'逸逸村'"
      ]
     },
     "execution_count": 15,
     "metadata": {},
     "output_type": "execute_result"
    }
   ],
   "source": [
    "def word_merge(sentence, max_ngram_length = 15):\n",
    "    '''合并文本中连续重复的词'''\n",
    "    final_merge_sent = sentence\n",
    "    max_ngram_length = min(max_ngram_length, len(sentence))\n",
    "    for i in range(max_ngram_length, 0, -1):\n",
    "        print(i)\n",
    "        start = 0\n",
    "        end = len(final_merge_sent) - i + 1\n",
    "        ngrams = []\n",
    "        while start < end:\n",
    "            ngrams.append(final_merge_sent[start: start + i])\n",
    "            start += 1\n",
    "        result = []\n",
    "        for cur_word in ngrams:\n",
    "            result.append(cur_word)\n",
    "            if len(result) > i:\n",
    "                pre_word = result[len(result) - i - 1]\n",
    "                if pre_word.__len__() == 1: continue\n",
    "                if pre_word == cur_word:\n",
    "                    for k in range(i):\n",
    "                        result.pop()\n",
    "        cur_merge_sent = \"\"\n",
    "        for word in result:\n",
    "            if not cur_merge_sent:\n",
    "                cur_merge_sent += word\n",
    "            else:\n",
    "                cur_merge_sent += word[-1]\n",
    "        final_merge_sent = cur_merge_sent\n",
    "    return final_merge_sent\n",
    "\n",
    "word_merge('逸逸逸逸村')"
   ]
  },
  {
   "cell_type": "code",
   "execution_count": 16,
   "metadata": {},
   "outputs": [
    {
     "data": {
      "text/plain": [
       "'23'"
      ]
     },
     "execution_count": 16,
     "metadata": {},
     "output_type": "execute_result"
    }
   ],
   "source": [
    "# str = '123'\n",
    "# str[1::]"
   ]
  },
  {
   "cell_type": "code",
   "execution_count": 19,
   "metadata": {},
   "outputs": [
    {
     "data": {
      "text/plain": [
       "['逸逸村', '中村', '']"
      ]
     },
     "execution_count": 19,
     "metadata": {},
     "output_type": "execute_result"
    }
   ],
   "source": [
    "# str = '逸逸村中村'\n",
    "# str.replace('村', '村@').split('@')"
   ]
  },
  {
   "cell_type": "code",
   "execution_count": 26,
   "metadata": {},
   "outputs": [],
   "source": [
    "def num_to_char(num):\n",
    "    \"\"\"数字转中文\"\"\"\n",
    "    num = str(num)\n",
    "    new_str=\"\"\n",
    "    num_dict={\"0\":u\"零\",\"1\":u\"一\",\"2\":u\"二\",\"3\":u\"三\",\"4\":u\"四\",\"5\":u\"五\",\"6\":u\"六\",\"7\":u\"七\",\"8\":u\"八\",\"9\":u\"九\"}\n",
    "    listnum=list(num)\n",
    "    shu=[]\n",
    "    for i in listnum:\n",
    "        shu.append(num_dict[i])\n",
    "    new_str=\"\".join(shu)\n",
    "    return new_str"
   ]
  },
  {
   "cell_type": "code",
   "execution_count": 28,
   "metadata": {},
   "outputs": [
    {
     "ename": "TypeError",
     "evalue": "'<' not supported between instances of 'int' and 'str'",
     "output_type": "error",
     "traceback": [
      "\u001b[1;31m---------------------------------------------------------------------------\u001b[0m",
      "\u001b[1;31mTypeError\u001b[0m                                 Traceback (most recent call last)",
      "\u001b[1;32me:\\visual studio code\\研究生\\machine-learning\\markdown\\14周报\\code\\regex.ipynb Cell 6\u001b[0m in \u001b[0;36m<cell line: 1>\u001b[1;34m()\u001b[0m\n\u001b[1;32m----> <a href='vscode-notebook-cell:/e%3A/visual%20studio%20code/%E7%A0%94%E7%A9%B6%E7%94%9F/machine-learning/markdown/14%E5%91%A8%E6%8A%A5/code/regex.ipynb#X25sZmlsZQ%3D%3D?line=0'>1</a>\u001b[0m \u001b[39m1\u001b[39;49m \u001b[39m<\u001b[39;49m \u001b[39m'\u001b[39;49m\u001b[39m2\u001b[39;49m\u001b[39m'\u001b[39;49m \u001b[39mand\u001b[39;00m \u001b[39m'\u001b[39m\u001b[39m2\u001b[39m\u001b[39m'\u001b[39m \u001b[39m<\u001b[39m \u001b[39m7\u001b[39m\n",
      "\u001b[1;31mTypeError\u001b[0m: '<' not supported between instances of 'int' and 'str'"
     ]
    }
   ],
   "source": [
    "1 < '2' and '2' < 7"
   ]
  },
  {
   "cell_type": "code",
   "execution_count": 1,
   "metadata": {},
   "outputs": [],
   "source": [
    "class DigitAlgo:\n",
    "\n",
    "    number_list = ['零', '一', '二', '三', '四', '五', '六', '七', '八', '九']\n",
    "    rank_1 = ['', '十', '百', '千']\n",
    "    rank_4 = ['', '万', '亿', '亿万', '兆', '兆万', '兆亿']\n",
    "\n",
    "    @classmethod\n",
    "    def to_zh(cls, digit) -> str:\n",
    "        \"\"\"\n",
    "        字符串数字转对应中文\n",
    "        :param digit: 数字，可以是string也可以是int，不支持float\n",
    "        :return: 对应的中文\n",
    "        \"\"\"\n",
    "        digit = str(digit)\n",
    "        if len(digit) > 28:\n",
    "            return digit\n",
    "\n",
    "        digit, res = digit[-1::-1], \"零\"\n",
    "        for i in range(0, len(digit), 4):\n",
    "            mid_res = cls.__to_zh_sub(digit[i:i + 4], cls.rank_4[i // 4])\n",
    "            if mid_res != \"零\":\n",
    "                res += mid_res\n",
    "\n",
    "        if res != \"零\":\n",
    "            res = res[-1:0:-1]\n",
    "            return res if res[:2] != \"一十\" else res[1:]\n",
    "        return res\n",
    "\n",
    "    @classmethod\n",
    "    def __to_zh_sub(cls, digit, rank_str):\n",
    "        res, length = \"零\", len(digit)\n",
    "        for i in range(length):\n",
    "            if digit[i] != \"0\":\n",
    "                res = res + cls.rank_1[i] + cls.number_list[int(digit[i])]\n",
    "            elif res[-1] != \"零\":\n",
    "                res += \"零\"\n",
    "\n",
    "        if res != \"零\":\n",
    "            return rank_str + res[1:]\n",
    "        return res"
   ]
  },
  {
   "cell_type": "code",
   "execution_count": 31,
   "metadata": {},
   "outputs": [
    {
     "ename": "SyntaxError",
     "evalue": "(unicode error) 'unicodeescape' codec can't decode bytes in position 70-71: malformed \\N character escape (1227502344.py, line 25)",
     "output_type": "error",
     "traceback": [
      "\u001b[1;36m  Input \u001b[1;32mIn [31]\u001b[1;36m\u001b[0m\n\u001b[1;33m    translate_number_chinese('江三村安置房江\\N三村安置房'.replace('\\N', ''))\u001b[0m\n\u001b[1;37m                                             ^\u001b[0m\n\u001b[1;31mSyntaxError\u001b[0m\u001b[1;31m:\u001b[0m (unicode error) 'unicodeescape' codec can't decode bytes in position 70-71: malformed \\N character escape\n"
     ]
    }
   ],
   "source": [
    "def translate_number_chinese(text):\n",
    "    number_char = ['0', '1', '2', '3', '4', '5', '6', '7', '8', '9']\n",
    "    beside_char = ['号', '幢', '层']\n",
    "    remember_char = ''\n",
    "    remember_char_list = []\n",
    "    remember_site_list = []\n",
    "    new_text = ''\n",
    "    \n",
    "    for i in range(text.__len__()):\n",
    "        # 处理非数字\n",
    "        if text[i] not in number_char:\n",
    "            new_text += text[i]\n",
    "        # 把英文数字进行组合\n",
    "        if text[i] in number_char: \n",
    "            remember_char += text[i]\n",
    "        if i == (text.__len__() - 1) or text[i + 1] in beside_char: \n",
    "            new_text += remember_char\n",
    "            remember_char = ''\n",
    "        if remember_char != '' and text[i + 1] not in number_char: \n",
    "            new_text += DigitAlgo().to_zh(int(remember_char))\n",
    "            remember_char = ''\n",
    "\n",
    "    return new_text\n",
    "\n",
    "translate_number_chinese('江三村安置房江\\N三村安置房'.replace('\\N', ''))"
   ]
  },
  {
   "cell_type": "code",
   "execution_count": 2,
   "metadata": {},
   "outputs": [
    {
     "data": {
      "text/plain": [
       "True"
      ]
     },
     "execution_count": 2,
     "metadata": {},
     "output_type": "execute_result"
    }
   ],
   "source": [
    "str = '1111111111111'\n",
    "str.__contains__('1')"
   ]
  },
  {
   "cell_type": "code",
   "execution_count": 5,
   "metadata": {},
   "outputs": [
    {
     "data": {
      "text/plain": [
       "'八'"
      ]
     },
     "execution_count": 5,
     "metadata": {},
     "output_type": "execute_result"
    }
   ],
   "source": [
    "DigitAlgo().to_zh(8)"
   ]
  },
  {
   "cell_type": "code",
   "execution_count": 29,
   "metadata": {},
   "outputs": [
    {
     "ename": "TypeError",
     "evalue": "'str' object is not callable",
     "output_type": "error",
     "traceback": [
      "\u001b[1;31m---------------------------------------------------------------------------\u001b[0m",
      "\u001b[1;31mTypeError\u001b[0m                                 Traceback (most recent call last)",
      "\u001b[1;32me:\\visual studio code\\研究生\\machine-learning\\markdown\\14周报\\code\\regex.ipynb Cell 7\u001b[0m in \u001b[0;36m<cell line: 2>\u001b[1;34m()\u001b[0m\n\u001b[0;32m      <a href='vscode-notebook-cell:/e%3A/visual%20studio%20code/%E7%A0%94%E7%A9%B6%E7%94%9F/machine-learning/markdown/14%E5%91%A8%E6%8A%A5/code/regex.ipynb#X26sZmlsZQ%3D%3D?line=0'>1</a>\u001b[0m x \u001b[39m=\u001b[39m \u001b[39m4\u001b[39m\n\u001b[1;32m----> <a href='vscode-notebook-cell:/e%3A/visual%20studio%20code/%E7%A0%94%E7%A9%B6%E7%94%9F/machine-learning/markdown/14%E5%91%A8%E6%8A%A5/code/regex.ipynb#X26sZmlsZQ%3D%3D?line=1'>2</a>\u001b[0m \u001b[39mstr\u001b[39;49m(x)\n",
      "\u001b[1;31mTypeError\u001b[0m: 'str' object is not callable"
     ]
    }
   ],
   "source": [
    "x = 4\n",
    "str(x)"
   ]
  },
  {
   "cell_type": "code",
   "execution_count": 27,
   "metadata": {},
   "outputs": [
    {
     "ename": "TypeError",
     "evalue": "'int' object is not iterable",
     "output_type": "error",
     "traceback": [
      "\u001b[1;31m---------------------------------------------------------------------------\u001b[0m",
      "\u001b[1;31mTypeError\u001b[0m                                 Traceback (most recent call last)",
      "\u001b[1;32me:\\visual studio code\\研究生\\machine-learning\\markdown\\14周报\\code\\regex.ipynb Cell 6\u001b[0m in \u001b[0;36m<cell line: 1>\u001b[1;34m()\u001b[0m\n\u001b[1;32m----> <a href='vscode-notebook-cell:/e%3A/visual%20studio%20code/%E7%A0%94%E7%A9%B6%E7%94%9F/machine-learning/markdown/14%E5%91%A8%E6%8A%A5/code/regex.ipynb#X23sZmlsZQ%3D%3D?line=0'>1</a>\u001b[0m num_to_char(\u001b[39m23\u001b[39;49m)\n",
      "\u001b[1;32me:\\visual studio code\\研究生\\machine-learning\\markdown\\14周报\\code\\regex.ipynb Cell 6\u001b[0m in \u001b[0;36mnum_to_char\u001b[1;34m(num)\u001b[0m\n\u001b[0;32m      <a href='vscode-notebook-cell:/e%3A/visual%20studio%20code/%E7%A0%94%E7%A9%B6%E7%94%9F/machine-learning/markdown/14%E5%91%A8%E6%8A%A5/code/regex.ipynb#X23sZmlsZQ%3D%3D?line=2'>3</a>\u001b[0m new_str\u001b[39m=\u001b[39m\u001b[39m\"\u001b[39m\u001b[39m\"\u001b[39m\n\u001b[0;32m      <a href='vscode-notebook-cell:/e%3A/visual%20studio%20code/%E7%A0%94%E7%A9%B6%E7%94%9F/machine-learning/markdown/14%E5%91%A8%E6%8A%A5/code/regex.ipynb#X23sZmlsZQ%3D%3D?line=3'>4</a>\u001b[0m num_dict\u001b[39m=\u001b[39m{\u001b[39m\"\u001b[39m\u001b[39m0\u001b[39m\u001b[39m\"\u001b[39m:\u001b[39mu\u001b[39m\u001b[39m\"\u001b[39m\u001b[39m零\u001b[39m\u001b[39m\"\u001b[39m,\u001b[39m\"\u001b[39m\u001b[39m1\u001b[39m\u001b[39m\"\u001b[39m:\u001b[39mu\u001b[39m\u001b[39m\"\u001b[39m\u001b[39m一\u001b[39m\u001b[39m\"\u001b[39m,\u001b[39m\"\u001b[39m\u001b[39m2\u001b[39m\u001b[39m\"\u001b[39m:\u001b[39mu\u001b[39m\u001b[39m\"\u001b[39m\u001b[39m二\u001b[39m\u001b[39m\"\u001b[39m,\u001b[39m\"\u001b[39m\u001b[39m3\u001b[39m\u001b[39m\"\u001b[39m:\u001b[39mu\u001b[39m\u001b[39m\"\u001b[39m\u001b[39m三\u001b[39m\u001b[39m\"\u001b[39m,\u001b[39m\"\u001b[39m\u001b[39m4\u001b[39m\u001b[39m\"\u001b[39m:\u001b[39mu\u001b[39m\u001b[39m\"\u001b[39m\u001b[39m四\u001b[39m\u001b[39m\"\u001b[39m,\u001b[39m\"\u001b[39m\u001b[39m5\u001b[39m\u001b[39m\"\u001b[39m:\u001b[39mu\u001b[39m\u001b[39m\"\u001b[39m\u001b[39m五\u001b[39m\u001b[39m\"\u001b[39m,\u001b[39m\"\u001b[39m\u001b[39m6\u001b[39m\u001b[39m\"\u001b[39m:\u001b[39mu\u001b[39m\u001b[39m\"\u001b[39m\u001b[39m六\u001b[39m\u001b[39m\"\u001b[39m,\u001b[39m\"\u001b[39m\u001b[39m7\u001b[39m\u001b[39m\"\u001b[39m:\u001b[39mu\u001b[39m\u001b[39m\"\u001b[39m\u001b[39m七\u001b[39m\u001b[39m\"\u001b[39m,\u001b[39m\"\u001b[39m\u001b[39m8\u001b[39m\u001b[39m\"\u001b[39m:\u001b[39mu\u001b[39m\u001b[39m\"\u001b[39m\u001b[39m八\u001b[39m\u001b[39m\"\u001b[39m,\u001b[39m\"\u001b[39m\u001b[39m9\u001b[39m\u001b[39m\"\u001b[39m:\u001b[39mu\u001b[39m\u001b[39m\"\u001b[39m\u001b[39m九\u001b[39m\u001b[39m\"\u001b[39m}\n\u001b[1;32m----> <a href='vscode-notebook-cell:/e%3A/visual%20studio%20code/%E7%A0%94%E7%A9%B6%E7%94%9F/machine-learning/markdown/14%E5%91%A8%E6%8A%A5/code/regex.ipynb#X23sZmlsZQ%3D%3D?line=4'>5</a>\u001b[0m listnum\u001b[39m=\u001b[39m\u001b[39mlist\u001b[39;49m(num)\n\u001b[0;32m      <a href='vscode-notebook-cell:/e%3A/visual%20studio%20code/%E7%A0%94%E7%A9%B6%E7%94%9F/machine-learning/markdown/14%E5%91%A8%E6%8A%A5/code/regex.ipynb#X23sZmlsZQ%3D%3D?line=5'>6</a>\u001b[0m shu\u001b[39m=\u001b[39m[]\n\u001b[0;32m      <a href='vscode-notebook-cell:/e%3A/visual%20studio%20code/%E7%A0%94%E7%A9%B6%E7%94%9F/machine-learning/markdown/14%E5%91%A8%E6%8A%A5/code/regex.ipynb#X23sZmlsZQ%3D%3D?line=6'>7</a>\u001b[0m \u001b[39mfor\u001b[39;00m i \u001b[39min\u001b[39;00m listnum:\n",
      "\u001b[1;31mTypeError\u001b[0m: 'int' object is not iterable"
     ]
    }
   ],
   "source": [
    "num_to_char(23)"
   ]
  },
  {
   "cell_type": "code",
   "execution_count": 25,
   "metadata": {},
   "outputs": [
    {
     "ename": "TypeError",
     "evalue": "'str' object is not callable",
     "output_type": "error",
     "traceback": [
      "\u001b[1;31m---------------------------------------------------------------------------\u001b[0m",
      "\u001b[1;31mTypeError\u001b[0m                                 Traceback (most recent call last)",
      "\u001b[1;32me:\\visual studio code\\研究生\\machine-learning\\markdown\\14周报\\code\\regex.ipynb Cell 7\u001b[0m in \u001b[0;36m<cell line: 1>\u001b[1;34m()\u001b[0m\n\u001b[1;32m----> <a href='vscode-notebook-cell:/e%3A/visual%20studio%20code/%E7%A0%94%E7%A9%B6%E7%94%9F/machine-learning/markdown/14%E5%91%A8%E6%8A%A5/code/regex.ipynb#X24sZmlsZQ%3D%3D?line=0'>1</a>\u001b[0m \u001b[39mstr\u001b[39;49m(\u001b[39m23\u001b[39;49m)\n",
      "\u001b[1;31mTypeError\u001b[0m: 'str' object is not callable"
     ]
    }
   ],
   "source": [
    "str(23)"
   ]
  },
  {
   "cell_type": "code",
   "execution_count": null,
   "metadata": {},
   "outputs": [],
   "source": [
    "temp.loc[(temp[1].str.contains((r\"号\"),na=False))&(temp[0]=='')&(kdfg_dz_df['building_name'].str.contains((r\"[0-9]{1,}室\"), na=False), 1] = ''"
   ]
  },
  {
   "cell_type": "code",
   "execution_count": 4,
   "metadata": {},
   "outputs": [
    {
     "data": {
      "text/plain": [
       "3"
      ]
     },
     "execution_count": 4,
     "metadata": {},
     "output_type": "execute_result"
    }
   ],
   "source": [
    "str = '123'\n",
    "str.__len__()"
   ]
  },
  {
   "cell_type": "code",
   "execution_count": null,
   "metadata": {},
   "outputs": [],
   "source": [
    "try:\n",
    "        temp = kdfg_dz_df['village_name'].str.split(r\"(.{1,})村\",expand=True)\n",
    "        temp_len = temp.shape[1]\n",
    "        if temp_len>2:\n",
    "            for i in range(1, temp_len-1):\n",
    "                kdfg_dz_df['grade_8'] = kdfg_dz_df['grade_8'].str.cat(temp.loc[(temp[i].str.contains((r\"自然村$\", na = False))&(kdfg_dz_df['village_name'].str.contains((r\"村$\"),na = False)), i],sep='',na_rep='')#拼接方式为：拼接符号为空格，空值使用空值进行拼接\n",
    "                kdfg_dz_df['grade_5'] = kdfg_dz_df['grade_5'].str.cat(temp.loc[(temp[i].str.contains((r\"村$\"),na = False))&(temp[i].str.contains((r\"(?<!自然村)$\"), na=False))&(kdfg_dz_df['village_name'].str.contains((r\"村$\"),na = False)), i],sep='',na_rep='')#拼接方式为：拼接符号为空格，空值使用空值进行拼接\n",
    "        else:\n",
    "            kdfg_dz_df['grade_5'] = kdfg_dz_df['grade_5'].str.cat(temp.loc[temp[1].str.contains((r\"村$\"),na = False), 1],sep='',na_rep='')#拼接方式为：拼接符号为空格，空值使用空值进行拼接\n",
    "        #将door_name中的号去除\n",
    "        kdfg_dz_df.loc[kdfg_dz_df['village_name'].str.contains((r\"村$\"),na = False),'village_name'] = ''\n",
    "    except:\n",
    "        pass"
   ]
  },
  {
   "cell_type": "code",
   "execution_count": 5,
   "metadata": {},
   "outputs": [
    {
     "data": {
      "text/plain": [
       "'水坑坞'"
      ]
     },
     "execution_count": 5,
     "metadata": {},
     "output_type": "execute_result"
    }
   ],
   "source": [
    "import re\n",
    "\n",
    "ss = '村水坑坞'\n",
    "re.findall('^村', ss)\n",
    "ss.replace(r'村杲村', '')"
   ]
  },
  {
   "cell_type": "code",
   "execution_count": 1,
   "metadata": {},
   "outputs": [
    {
     "data": {
      "text/plain": [
       "'1213213'"
      ]
     },
     "execution_count": 1,
     "metadata": {},
     "output_type": "execute_result"
    }
   ],
   "source": [
    "str = '_1213_213'\n",
    "str.replace('_', '')"
   ]
  },
  {
   "cell_type": "code",
   "execution_count": 2,
   "metadata": {},
   "outputs": [
    {
     "data": {
      "text/plain": [
       "['村水坑坞']"
      ]
     },
     "execution_count": 2,
     "metadata": {},
     "output_type": "execute_result"
    }
   ],
   "source": [
    "str = '村水坑坞'\n",
    "str.split(r'^村')"
   ]
  },
  {
   "cell_type": "code",
   "execution_count": 2,
   "metadata": {},
   "outputs": [
    {
     "data": {
      "text/plain": [
       "True"
      ]
     },
     "execution_count": 2,
     "metadata": {},
     "output_type": "execute_result"
    }
   ],
   "source": [
    "a = None\n",
    "a == None"
   ]
  },
  {
   "cell_type": "code",
   "execution_count": 15,
   "metadata": {},
   "outputs": [
    {
     "data": {
      "text/plain": [
       "False"
      ]
     },
     "execution_count": 15,
     "metadata": {},
     "output_type": "execute_result"
    }
   ],
   "source": [
    "a == 1"
   ]
  },
  {
   "cell_type": "code",
   "execution_count": 16,
   "metadata": {},
   "outputs": [
    {
     "data": {
      "text/plain": [
       "False"
      ]
     },
     "execution_count": 16,
     "metadata": {},
     "output_type": "execute_result"
    }
   ],
   "source": [
    "a != None"
   ]
  },
  {
   "cell_type": "code",
   "execution_count": 9,
   "metadata": {},
   "outputs": [],
   "source": [
    "a"
   ]
  },
  {
   "cell_type": "code",
   "execution_count": 8,
   "metadata": {},
   "outputs": [
    {
     "ename": "AttributeError",
     "evalue": "'NoneType' object has no attribute 'isnull'",
     "output_type": "error",
     "traceback": [
      "\u001b[1;31m---------------------------------------------------------------------------\u001b[0m",
      "\u001b[1;31mAttributeError\u001b[0m                            Traceback (most recent call last)",
      "\u001b[1;32me:\\visual studio code\\研究生\\machine-learning\\markdown\\14周报\\code\\regex.ipynb Cell 2\u001b[0m in \u001b[0;36m<cell line: 1>\u001b[1;34m()\u001b[0m\n\u001b[1;32m----> <a href='vscode-notebook-cell:/e%3A/visual%20studio%20code/%E7%A0%94%E7%A9%B6%E7%94%9F/machine-learning/markdown/14%E5%91%A8%E6%8A%A5/code/regex.ipynb#W2sZmlsZQ%3D%3D?line=0'>1</a>\u001b[0m a\u001b[39m.\u001b[39;49misnull()\n",
      "\u001b[1;31mAttributeError\u001b[0m: 'NoneType' object has no attribute 'isnull'"
     ]
    }
   ],
   "source": [
    "a.isnull()"
   ]
  },
  {
   "cell_type": "code",
   "execution_count": 10,
   "metadata": {},
   "outputs": [
    {
     "data": {
      "text/plain": [
       "<NA>"
      ]
     },
     "execution_count": 10,
     "metadata": {},
     "output_type": "execute_result"
    }
   ],
   "source": [
    "a = pandas.NA\n",
    "a"
   ]
  }
 ],
 "metadata": {
  "kernelspec": {
   "display_name": "Python 3.10.0 ('jupyter': venv)",
   "language": "python",
   "name": "python3"
  },
  "language_info": {
   "codemirror_mode": {
    "name": "ipython",
    "version": 3
   },
   "file_extension": ".py",
   "mimetype": "text/x-python",
   "name": "python",
   "nbconvert_exporter": "python",
   "pygments_lexer": "ipython3",
   "version": "3.10.0"
  },
  "orig_nbformat": 4,
  "vscode": {
   "interpreter": {
    "hash": "141c5e0ba87e97013844de5b21d12d023199bf67a08052ba51b9f2de1a481a39"
   }
  }
 },
 "nbformat": 4,
 "nbformat_minor": 2
}
