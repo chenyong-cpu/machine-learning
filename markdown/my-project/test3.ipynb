{
 "cells": [
  {
   "cell_type": "code",
   "execution_count": 9,
   "metadata": {},
   "outputs": [
    {
     "name": "stdout",
     "output_type": "stream",
     "text": [
      "13\n",
      "市场1-71-8号\n",
      "20 26\n"
     ]
    }
   ],
   "source": [
    "import re\n",
    "\n",
    "cz = '绍兴市柯桥区湖塘街道余渚村市场1-71号(DP151)市场1-71-8号(移FTTH)'\n",
    "first = cz.find('(')\n",
    "second = cz.find(')')\n",
    "print(cz[:first].find(cz[second+1:second+6]))\n",
    "print(cz[second+1:second+10])\n",
    "print(first, second)\n",
    "length = cz.__len__()\n",
    "if second + 10 >= length:\n",
    "    # return False\n",
    "    print('错误')\n",
    "site = 10"
   ]
  },
  {
   "cell_type": "code",
   "execution_count": 1,
   "metadata": {},
   "outputs": [],
   "source": [
    "a = ['1', '2', '3', '4', '5', '6', '7', '8', '9']"
   ]
  },
  {
   "cell_type": "code",
   "execution_count": 4,
   "metadata": {},
   "outputs": [
    {
     "data": {
      "text/plain": [
       "['1', '4', '5', '6', '7', '8', '9']"
      ]
     },
     "execution_count": 4,
     "metadata": {},
     "output_type": "execute_result"
    }
   ],
   "source": [
    "a.pop(1)\n",
    "a"
   ]
  },
  {
   "cell_type": "code",
   "execution_count": null,
   "metadata": {},
   "outputs": [],
   "source": [
    "def symmetry(x):\n",
    "    first = x.find('(')\n",
    "    second = x.find(')')\n",
    "    if second + 6 > x.__len__(): return False\n",
    "    if x[:first].find(x[second+1:second+6]): return True\n",
    "    else: return False"
   ]
  },
  {
   "cell_type": "code",
   "execution_count": null,
   "metadata": {},
   "outputs": [],
   "source": []
  },
  {
   "cell_type": "code",
   "execution_count": 1,
   "metadata": {},
   "outputs": [],
   "source": [
    "def word_merge(sentence, max_ngram_length = 15):\n",
    "    '''合并文本中连续重复的词'''\n",
    "    final_merge_sent = str(sentence)\n",
    "    max_ngram_length = min(max_ngram_length, len(str(sentence)))\n",
    "    for i in range(max_ngram_length, 0, -1):\n",
    "        start = 0\n",
    "        end = len(final_merge_sent) - i + 1\n",
    "        ngrams = []\n",
    "        while start < end:\n",
    "            ngrams.append(final_merge_sent[start: start + i])\n",
    "            start += 1\n",
    "        result = []\n",
    "        for cur_word in ngrams:\n",
    "            result.append(cur_word)\n",
    "            if len(result) > i:\n",
    "                pre_word = result[len(result) - i - 1]\n",
    "                # V 1.4 避免了'逸逸村'变为'逸村'\n",
    "                if pre_word.__len__() == 1: continue\n",
    "                if pre_word == cur_word:\n",
    "                    for k in range(i):\n",
    "                        result.pop()\n",
    "        cur_merge_sent = \"\"\n",
    "        for word in result:\n",
    "            if not cur_merge_sent:\n",
    "                cur_merge_sent += word\n",
    "            else:\n",
    "                cur_merge_sent += word[-1]\n",
    "        final_merge_sent = cur_merge_sent\n",
    "    return final_merge_sent"
   ]
  },
  {
   "cell_type": "code",
   "execution_count": 2,
   "metadata": {},
   "outputs": [
    {
     "data": {
      "text/plain": [
       "'403-3号'"
      ]
     },
     "execution_count": 2,
     "metadata": {},
     "output_type": "execute_result"
    }
   ],
   "source": [
    "word_merge('403-3号403-3号')"
   ]
  },
  {
   "cell_type": "code",
   "execution_count": 10,
   "metadata": {},
   "outputs": [
    {
     "name": "stdout",
     "output_type": "stream",
     "text": [
      "----------\n"
     ]
    }
   ],
   "source": [
    "if -1: print('----------')"
   ]
  }
 ],
 "metadata": {
  "kernelspec": {
   "display_name": "Python 3.10.0 ('jupyter': venv)",
   "language": "python",
   "name": "python3"
  },
  "language_info": {
   "codemirror_mode": {
    "name": "ipython",
    "version": 3
   },
   "file_extension": ".py",
   "mimetype": "text/x-python",
   "name": "python",
   "nbconvert_exporter": "python",
   "pygments_lexer": "ipython3",
   "version": "3.10.0"
  },
  "orig_nbformat": 4,
  "vscode": {
   "interpreter": {
    "hash": "141c5e0ba87e97013844de5b21d12d023199bf67a08052ba51b9f2de1a481a39"
   }
  }
 },
 "nbformat": 4,
 "nbformat_minor": 2
}
