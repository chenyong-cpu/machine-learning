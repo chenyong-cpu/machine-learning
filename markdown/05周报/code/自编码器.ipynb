{
 "cells": [
  {
   "cell_type": "code",
   "execution_count": null,
   "metadata": {},
   "outputs": [],
   "source": [
    "# 基于Keras实现最简单AE\n",
    "import numpy as np\n",
    "import keras\n",
    "\n",
    "\n",
    "# 建模与训练\n",
    "def getModel(x):\n",
    "    input_layer = keras.Input(shape=(x.shape[1],))\n",
    "    encoded = keras.Dense(8, activation='relu', activity_regularizer = keras.regularizers.l2(10e-5))(input_layer)  # l2正则化约束\n",
    "    decoded = keras.Dense(x.shape[1], activation='relu')(encoded)\n",
    "    autoencoder = keras.Model(input_layer, decoded)。\n",
    "    autoencoder.compile(optimizer='adam', loss='mean_squared_error')\n",
    "    return autoencoder\n",
    "\n",
    "\n",
    "# calculate_losses是一个辅助函数，计算每个数据样本的重建损失\n",
    "def calculate_losses(x, preds):\n",
    "    losses = np.zeros(len(x))\n",
    "    for i in range(len(x)):\n",
    "        losses[i] = ((preds[i] - x[i]) ** 2).mean(axis=None)\n",
    "    return losses"
   ]
  }
 ],
 "metadata": {
  "language_info": {
   "name": "python"
  },
  "orig_nbformat": 4
 },
 "nbformat": 4,
 "nbformat_minor": 2
}
