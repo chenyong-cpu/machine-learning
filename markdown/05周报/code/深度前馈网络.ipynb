{
 "cells": [
  {
   "cell_type": "code",
   "execution_count": null,
   "metadata": {},
   "outputs": [],
   "source": [
    "# 线性回归\n",
    "import tensorflow as tf\n",
    "import numpy as np\n",
    "\n",
    "X = np.array([[0, 0], [0, 1], [1, 0], [1, 1]])\n",
    "Y = np.array([[0], [1], [1], [0]])\n",
    "\n",
    "x = tf.placeholder(tf.float32, [None, 2])\n",
    "y = tf.placeholder(tf.float32, [None, 1])\n",
    "\n",
    "w = tf.Variable(tf.random_normal([2, 1]))\n",
    "b = tf.Variable(tf.random_normal([1]))\n",
    "\n",
    "out = tf.matmul(x, w) + b\n",
    "loss = tf.reduce_mean(tf.square(out - y))\n",
    "\n",
    "train = tf.train.AdamOptimizer(0.01).minimize(loss)\n",
    "\n",
    "with tf.Session() as sess:\n",
    "    sess.run(tf.global_variables_initializer())\n",
    "    for i in range(1000):\n",
    "        for j in range(4):\n",
    "            sess.run(train, feed_dict={x: np.expand_dims(X[j], 0), y: np.expand_dims(Y[j], 0)})\n",
    "        loss_ = sess.run(loss, feed_dict={x: X, y: Y})\n",
    "        print(\"step: %d, loss: %.3f\"%(i, loss_))\n",
    "    print(\"X: %r\"%X)\n",
    "    print(\"pred: %r\"%sess.run(out, feed_dict={x: X}))"
   ]
  },
  {
   "cell_type": "code",
   "execution_count": null,
   "metadata": {},
   "outputs": [],
   "source": [
    "# 单隐藏层前馈网络\n",
    "import tensorflow as tf\n",
    "\n",
    "#输入训练数据，这里是python的list, 也可以定义为numpy的ndarray\n",
    "x_data = [[1., 0.], [0., 1.], [0., 0.], [1., 1.]]\n",
    "x = tf.placeholder(tf.float32, shape = [None, 2])#定义占位符，占位符在运行图的时候必须feed数据\n",
    "y_data = [[1], [1], [0], [0]]#训练数据的标签，注意维度\n",
    "y = tf.placeholder(tf.float32, shape = [None, 1])\n",
    "#定义variables，在运行图的过程中会被按照优化目标改变和保存\n",
    "weights = {'w1': tf.Variable(tf.random_normal([2, 16])), \n",
    "           'w2': tf.Variable(tf.random_normal([16, 1]))}\n",
    "bias = {'b1': tf.Variable(tf.zeros([1])), \n",
    "        'b2': tf.Variable(tf.zeros([1]))}#b1,b2初始为0，正态化初始也可\n",
    "#定义神经网络计算图\n",
    "def nn(x, weights, bias):\n",
    "    d1 = tf.matmul(x, weights['w1']) + bias['b1']\n",
    "    d1 = tf.nn.relu(d1)\n",
    "    d2 = tf.matmul(d1, weights['w2']) + bias['b2']\n",
    "    d2 = tf.nn.sigmoid(d2)\n",
    "    return d2\n",
    "pred = nn(x, weights, bias)#预测值\n",
    "cost = tf.reduce_mean(tf.square(y - pred))#损失函数\n",
    "learning_rate = 0.01#学习率取0.01\n",
    "#定义tf.train用来训练\n",
    "# train_step = tf.train.GradientDescentOptimizer(learning_rate).minimize(cost)  ## max_step: 20000, loss: 0.002638\n",
    "train_step = tf.train.AdamOptimizer(learning_rate).minimize(cost)  ## max_step: 2000, loss: 0.000014\n",
    "init = tf.global_variables_initializer()#初始化参数，图运行的一开始必须初始化所有变量\n",
    "#运行图\n",
    "with tf.Session() as sess:\n",
    "    sess.run(init)\n",
    "    max_step = 500\n",
    "    for i in range(max_step + 1):\n",
    "        sess.run(train_step, feed_dict = {x: x_data, y: y_data})\n",
    "        loss = sess.run(cost, feed_dict = {x: x_data, y: y_data})\n",
    "        if i % 100 == 0:\n",
    "            print('step: '+ str(i) + '  loss:' + \"{:.6f}\".format(loss)) #+ '    accuracy:' + \"{:.6f}\".format(acc))\n",
    "            print(sess.run(pred, feed_dict = {x: x_data}))\n",
    "    print('end')"
   ]
  }
 ],
 "metadata": {
  "kernelspec": {
   "display_name": "Python 3.10.5 ('virtualenv': venv)",
   "language": "python",
   "name": "python3"
  },
  "language_info": {
   "codemirror_mode": {
    "name": "ipython",
    "version": 3
   },
   "file_extension": ".py",
   "mimetype": "text/x-python",
   "name": "python",
   "nbconvert_exporter": "python",
   "pygments_lexer": "ipython3",
   "version": "3.10.5"
  },
  "orig_nbformat": 4,
  "vscode": {
   "interpreter": {
    "hash": "cb63f12dc7f52f810f0947f49e435da0797b328f197778c8dc581129fa544c9c"
   }
  }
 },
 "nbformat": 4,
 "nbformat_minor": 2
}
