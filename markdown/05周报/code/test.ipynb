{
 "cells": [
  {
   "cell_type": "code",
   "execution_count": 4,
   "metadata": {},
   "outputs": [
    {
     "data": {
      "text/plain": [
       "('2022-06-16 11:48', '2022-06-16 11:58', 1655351906)"
      ]
     },
     "execution_count": 4,
     "metadata": {},
     "output_type": "execute_result"
    }
   ],
   "source": [
    "import time\n",
    "\n",
    "time1 = time.strftime(\"%Y-%m-%d %H:%M\", time.localtime(1655351306))\n",
    "time2 = time.strftime(\"%Y-%m-%d %H:%M\", time.localtime(1655351306 + 600))\n",
    "(time1, time2, 1655351306 + 600)"
   ]
  }
 ],
 "metadata": {
  "kernelspec": {
   "display_name": "Python 3.10.0 64-bit",
   "language": "python",
   "name": "python3"
  },
  "language_info": {
   "codemirror_mode": {
    "name": "ipython",
    "version": 3
   },
   "file_extension": ".py",
   "mimetype": "text/x-python",
   "name": "python",
   "nbconvert_exporter": "python",
   "pygments_lexer": "ipython3",
   "version": "3.10.0"
  },
  "orig_nbformat": 4,
  "vscode": {
   "interpreter": {
    "hash": "9149961ccd7cb6e903229de7c8280db7f75ebe5403b873967d5287a3e6357040"
   }
  }
 },
 "nbformat": 4,
 "nbformat_minor": 2
}
