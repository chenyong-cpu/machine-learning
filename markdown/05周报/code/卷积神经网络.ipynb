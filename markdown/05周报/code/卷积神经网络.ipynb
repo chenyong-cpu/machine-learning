{
 "cells": [
  {
   "cell_type": "markdown",
   "metadata": {},
   "source": [
    "[卷积神经网络CNN实现](https://zhuanlan.zhihu.com/p/102119808]\n",
    "\n",
    "1. 动机\n",
    "   1. 通过普通的神经网络可以实现，但是图片越来越多，如果使用NN实现则训练的参数太多\n",
    "   2. 特征位置在不同的图片中会有不同的变化\n",
    "2. 数据集\n",
    "   1. [数据集来源](http://yann.lecun.com/exdb/mnist/)\n",
    "3. 卷积\n",
    "\n",
    "   ![avator](../resource/v2-69b4c1dd078ee363317bb8fa323eaace_b.gif)\n",
    "\n",
    "   1. 通过卷积可以提取图片中特定线条，垂直线条或者水平线条\n",
    "   ![avator](../resource/v2-ca0d5ccbaf1a30eff0f9289987486e96_720w.jpg)\n",
    "   2. 填充：可以通过在周围补-实现输出前后图像大小一致\n",
    "   3. 卷基层：卷基层通过一组 filter 将输入的图片转为输出的图片。卷基层的主要参数是 filter 的个数\n",
    "   ![avator](../resource/v2-cad35827f01a669417b548f52dfc3c2a_720w.jpg)"
   ]
  },
  {
   "cell_type": "code",
   "execution_count": null,
   "metadata": {},
   "outputs": [],
   "source": [
    "# 3.4 卷积层代码实现\n",
    "import numpy as np\n",
    "\n",
    "class Conv3x3:\n",
    "\n",
    "    def __init__(self, num_filters):\n",
    "        self.num_filters = num_filters\n",
    "        # 初始化时除以9是因为初始值不能太大也不能太小\n",
    "        self.filters = np.random.randn(num_filters, 3, 3) / 9\n",
    "    \n",
    "\n",
    "    def iterate_regions(self, image):\n",
    "        h, w = image.shape"
   ]
  }
 ],
 "metadata": {
  "language_info": {
   "name": "python"
  },
  "orig_nbformat": 4
 },
 "nbformat": 4,
 "nbformat_minor": 2
}
