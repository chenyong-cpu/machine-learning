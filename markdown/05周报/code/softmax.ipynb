{
 "cells": [
  {
   "cell_type": "code",
   "execution_count": 1,
   "metadata": {},
   "outputs": [
    {
     "name": "stderr",
     "output_type": "stream",
     "text": [
      "2022-06-26 22:07:13.201292: W tensorflow/stream_executor/platform/default/dso_loader.cc:64] Could not load dynamic library 'libcudart.so.11.0'; dlerror: libcudart.so.11.0: cannot open shared object file: No such file or directory\n",
      "2022-06-26 22:07:13.201316: I tensorflow/stream_executor/cuda/cudart_stub.cc:29] Ignore above cudart dlerror if you do not have a GPU set up on your machine.\n"
     ]
    },
    {
     "name": "stdout",
     "output_type": "stream",
     "text": [
      "2.9.1\n",
      "tf.Tensor([0.2 0.3 0.5], shape=(3,), dtype=float32)\n",
      "tf.Tensor([0.04201007 0.11419519 0.8437947 ], shape=(3,), dtype=float32)\n"
     ]
    },
    {
     "name": "stderr",
     "output_type": "stream",
     "text": [
      "2022-06-26 22:07:17.293311: I tensorflow/stream_executor/cuda/cuda_gpu_executor.cc:975] successful NUMA node read from SysFS had negative value (-1), but there must be at least one NUMA node, so returning NUMA node zero\n",
      "2022-06-26 22:07:17.294001: W tensorflow/stream_executor/platform/default/dso_loader.cc:64] Could not load dynamic library 'libcudart.so.11.0'; dlerror: libcudart.so.11.0: cannot open shared object file: No such file or directory\n",
      "2022-06-26 22:07:17.294432: W tensorflow/stream_executor/platform/default/dso_loader.cc:64] Could not load dynamic library 'libcublas.so.11'; dlerror: libcublas.so.11: cannot open shared object file: No such file or directory\n",
      "2022-06-26 22:07:17.294730: W tensorflow/stream_executor/platform/default/dso_loader.cc:64] Could not load dynamic library 'libcublasLt.so.11'; dlerror: libcublasLt.so.11: cannot open shared object file: No such file or directory\n",
      "2022-06-26 22:07:17.294989: W tensorflow/stream_executor/platform/default/dso_loader.cc:64] Could not load dynamic library 'libcufft.so.10'; dlerror: libcufft.so.10: cannot open shared object file: No such file or directory\n",
      "2022-06-26 22:07:17.295239: W tensorflow/stream_executor/platform/default/dso_loader.cc:64] Could not load dynamic library 'libcurand.so.10'; dlerror: libcurand.so.10: cannot open shared object file: No such file or directory\n",
      "2022-06-26 22:07:17.295560: W tensorflow/stream_executor/platform/default/dso_loader.cc:64] Could not load dynamic library 'libcusolver.so.11'; dlerror: libcusolver.so.11: cannot open shared object file: No such file or directory\n",
      "2022-06-26 22:07:17.295841: W tensorflow/stream_executor/platform/default/dso_loader.cc:64] Could not load dynamic library 'libcusparse.so.11'; dlerror: libcusparse.so.11: cannot open shared object file: No such file or directory\n",
      "2022-06-26 22:07:17.296098: W tensorflow/stream_executor/platform/default/dso_loader.cc:64] Could not load dynamic library 'libcudnn.so.8'; dlerror: libcudnn.so.8: cannot open shared object file: No such file or directory\n",
      "2022-06-26 22:07:17.296112: W tensorflow/core/common_runtime/gpu/gpu_device.cc:1850] Cannot dlopen some GPU libraries. Please make sure the missing libraries mentioned above are installed properly if you would like to use GPU. Follow the guide at https://www.tensorflow.org/install/gpu for how to download and setup the required libraries for your platform.\n",
      "Skipping registering GPU devices...\n",
      "2022-06-26 22:07:17.297303: I tensorflow/core/platform/cpu_feature_guard.cc:193] This TensorFlow binary is optimized with oneAPI Deep Neural Network Library (oneDNN) to use the following CPU instructions in performance-critical operations:  AVX2 FMA\n",
      "To enable them in other operations, rebuild TensorFlow with the appropriate compiler flags.\n"
     ]
    }
   ],
   "source": [
    "import tensorflow as tf\n",
    "\n",
    "print(tf.__version__)\n",
    "a = tf.constant([2, 3, 5], dtype=tf.float32)\n",
    "\n",
    "b1 = a / tf.reduce_sum(a)\n",
    "print(b1)\n",
    "\n",
    "b2 = tf.nn.softmax(a)\n",
    "print(b2)"
   ]
  },
  {
   "cell_type": "markdown",
   "metadata": {},
   "source": [
    "1. 经过指数形式的Softmax函数能够将差距大的数值距离拉的更大\n",
    "2. 在深度学习中通常使用反向传播求解梯度进而使用梯度下降进行参数更新的过程，而指数函数在求导的时候比较方便"
   ]
  },
  {
   "cell_type": "code",
   "execution_count": 2,
   "metadata": {},
   "outputs": [
    {
     "name": "stdout",
     "output_type": "stream",
     "text": [
      "0.042010066134066056\n"
     ]
    }
   ],
   "source": [
    "import math\n",
    "\n",
    "print(math.exp(2)/(math.exp(2) +  math.exp(3) + math.exp(5)))"
   ]
  },
  {
   "cell_type": "markdown",
   "metadata": {},
   "source": [
    "指数函数的曲线写了逐渐增大虽然能够将输出值拉开距离，但是也带来了缺点，当$z_i$值非常大的话，计算得到的数值也会变得非常大，数值可能溢出"
   ]
  },
  {
   "cell_type": "code",
   "execution_count": 3,
   "metadata": {},
   "outputs": [
    {
     "name": "stdout",
     "output_type": "stream",
     "text": [
      "[ 0.  0. nan]\n"
     ]
    },
    {
     "name": "stderr",
     "output_type": "stream",
     "text": [
      "/tmp/ipykernel_20707/4703097.py:4: RuntimeWarning: overflow encountered in exp\n",
      "  softmax = np.exp(scores) / np.sum(np.exp(scores))\n",
      "/tmp/ipykernel_20707/4703097.py:4: RuntimeWarning: invalid value encountered in true_divide\n",
      "  softmax = np.exp(scores) / np.sum(np.exp(scores))\n"
     ]
    }
   ],
   "source": [
    "import numpy as np\n",
    "\n",
    "scores = np.array([123, 456, 789])\n",
    "softmax = np.exp(scores) / np.sum(np.exp(scores))\n",
    "print(softmax)"
   ]
  },
  {
   "cell_type": "markdown",
   "metadata": {},
   "source": [
    "针对数值溢出有其对应的优化方法，将每一个输出值减去输出值中最大值\n",
    "\n",
    "$D = max(z)$\n",
    "\n",
    "$softmax(z_i)=\\frac{e^{z_i-D}}{{\\sum_{c=1}^C}e^{z_c-D}}$"
   ]
  },
  {
   "cell_type": "code",
   "execution_count": 4,
   "metadata": {},
   "outputs": [
    {
     "data": {
      "text/plain": [
       "array([5.75274406e-290, 2.39848787e-145, 1.00000000e+000])"
      ]
     },
     "execution_count": 4,
     "metadata": {},
     "output_type": "execute_result"
    }
   ],
   "source": [
    "import numpy as np\n",
    "\n",
    "scores = np.array([123, 456, 789])\n",
    "scores -= np.max(scores)\n",
    "p = np.exp(scores) / np.sum(np.exp(scores))\n",
    "p"
   ]
  },
  {
   "cell_type": "markdown",
   "metadata": {},
   "source": [
    "这里需要注意一下，当使用Softmax函数作为输出节点的激活函数的时候，一般使用交叉熵作为损失函数。由于Softmax函数的数值计算过程中，很容易因为输出节点的输出值比较大而发生数值溢出的现象，在计算交叉熵的时候也可能会出现数值溢出的问题。为了数值计算的稳定性，TensorFlow提供了一个统一的接口，将Softmax与交叉熵损失函数同时实现，同时也处理了数值不稳定的异常，使用TensorFlow深度学习框架的时候，一般推荐使用这个统一的接口，避免分开使用Softmax函数与交叉熵损失函数。\n",
    "```python\n",
    "import tensorflow as tf\n",
    "\n",
    "print(tf.__version__) # 2.0.0\n",
    "tf.keras.losses.categorical_crossentropy(y_true, y_pred, from_logits = False)\n",
    "```\n",
    "其中y_true代表了One-hot编码后的真实标签，y_pred表示网络的实际预测值：\n",
    "1. 当from_logits设置为True时，y_pred表示未经Softmax函数的输出值；\n",
    "2. 当from_logits设置为False时，y_pred表示为经过Softmax函数后的输出值；"
   ]
  },
  {
   "cell_type": "code",
   "execution_count": 6,
   "metadata": {},
   "outputs": [
    {
     "name": "stdout",
     "output_type": "stream",
     "text": [
      "2.9.1\n",
      "tf.Tensor(3.2160025, shape=(), dtype=float32)\n",
      "tf.Tensor(3.2160022, shape=(), dtype=float32)\n"
     ]
    },
    {
     "name": "stderr",
     "output_type": "stream",
     "text": [
      "2022-06-26 22:24:53.410487: I tensorflow/stream_executor/cuda/cuda_gpu_executor.cc:975] successful NUMA node read from SysFS had negative value (-1), but there must be at least one NUMA node, so returning NUMA node zero\n",
      "2022-06-26 22:24:53.412454: W tensorflow/stream_executor/platform/default/dso_loader.cc:64] Could not load dynamic library 'libcudart.so.11.0'; dlerror: libcudart.so.11.0: cannot open shared object file: No such file or directory\n",
      "2022-06-26 22:24:53.412970: W tensorflow/stream_executor/platform/default/dso_loader.cc:64] Could not load dynamic library 'libcublas.so.11'; dlerror: libcublas.so.11: cannot open shared object file: No such file or directory\n",
      "2022-06-26 22:24:53.413359: W tensorflow/stream_executor/platform/default/dso_loader.cc:64] Could not load dynamic library 'libcublasLt.so.11'; dlerror: libcublasLt.so.11: cannot open shared object file: No such file or directory\n",
      "2022-06-26 22:24:53.413652: W tensorflow/stream_executor/platform/default/dso_loader.cc:64] Could not load dynamic library 'libcufft.so.10'; dlerror: libcufft.so.10: cannot open shared object file: No such file or directory\n",
      "2022-06-26 22:24:53.413931: W tensorflow/stream_executor/platform/default/dso_loader.cc:64] Could not load dynamic library 'libcurand.so.10'; dlerror: libcurand.so.10: cannot open shared object file: No such file or directory\n",
      "2022-06-26 22:24:53.414208: W tensorflow/stream_executor/platform/default/dso_loader.cc:64] Could not load dynamic library 'libcusolver.so.11'; dlerror: libcusolver.so.11: cannot open shared object file: No such file or directory\n",
      "2022-06-26 22:24:53.414481: W tensorflow/stream_executor/platform/default/dso_loader.cc:64] Could not load dynamic library 'libcusparse.so.11'; dlerror: libcusparse.so.11: cannot open shared object file: No such file or directory\n",
      "2022-06-26 22:24:53.414749: W tensorflow/stream_executor/platform/default/dso_loader.cc:64] Could not load dynamic library 'libcudnn.so.8'; dlerror: libcudnn.so.8: cannot open shared object file: No such file or directory\n",
      "2022-06-26 22:24:53.414763: W tensorflow/core/common_runtime/gpu/gpu_device.cc:1850] Cannot dlopen some GPU libraries. Please make sure the missing libraries mentioned above are installed properly if you would like to use GPU. Follow the guide at https://www.tensorflow.org/install/gpu for how to download and setup the required libraries for your platform.\n",
      "Skipping registering GPU devices...\n",
      "2022-06-26 22:24:53.415782: I tensorflow/core/platform/cpu_feature_guard.cc:193] This TensorFlow binary is optimized with oneAPI Deep Neural Network Library (oneDNN) to use the following CPU instructions in performance-critical operations:  AVX2 FMA\n",
      "To enable them in other operations, rebuild TensorFlow with the appropriate compiler flags.\n"
     ]
    }
   ],
   "source": [
    "import tensorflow as tf\n",
    "\n",
    "print(tf.__version__)\n",
    "z = tf.random.normal([2, 10]) # 构造2个样本的10类别输出的输出值\n",
    "y = tf.constant([1, 3]) # 两个样本的真实样本标签是1和3\n",
    "y_true = tf.one_hot(y, depth = 10) # 构造onehot编码\n",
    "\n",
    "# 输出层未经过Softmax激活函数,因此讲from_logits设置为True\n",
    "loss1 = tf.keras.losses.categorical_crossentropy(y_true, z, from_logits = True)\n",
    "loss1 = tf.reduce_mean(loss1)\n",
    "print(loss1) # tf.Tensor(2.6680193, shape=(), dtype=float32)\n",
    "\n",
    "y_pred = tf.nn.softmax(z)\n",
    "# 输出层经过Softmax激活函数,因此讲from_logits设置为True\n",
    "loss2 = tf.keras.losses.categorical_crossentropy(y_true, y_pred, from_logits = False)\n",
    "loss2 = tf.reduce_mean(loss2)\n",
    "print(loss2) # tf.Tensor(2.668019, shape=(), dtype=float32)"
   ]
  },
  {
   "cell_type": "code",
   "execution_count": 7,
   "metadata": {},
   "outputs": [
    {
     "name": "stdout",
     "output_type": "stream",
     "text": [
      "2.9.1\n",
      "x: tf.Tensor([ 4. -4.  3.], shape=(3,), dtype=float32)\n",
      "y_hat: tf.Tensor([7.3087937e-01 2.4518272e-04 2.6887551e-01], shape=(3,), dtype=float32)\n",
      "y: tf.Tensor([0. 0. 1.], shape=(3,), dtype=float32)\n",
      "cross_entropy: tf.Tensor(1.3135068, shape=(), dtype=float32)\n"
     ]
    }
   ],
   "source": [
    "# 计算交叉熵损失值\n",
    "import tensorflow as tf\n",
    "\n",
    "print(tf.__version__) # 2.0.0\n",
    "z = tf.constant([4, -4, 3], dtype = tf.float32)\n",
    "y_hat = tf.nn.softmax(z)\n",
    "y = tf.one_hot(2, depth = 3)\n",
    "print(\"x:\",z)\n",
    "print(\"y_hat:\", y_hat)\n",
    "print(\"y:\", y)\n",
    "\n",
    "CE = tf.keras.losses.categorical_crossentropy(y, z, from_logits = True)\n",
    "CE = tf.reduce_mean(CE)\n",
    "\n",
    "print(\"cross_entropy:\", CE)"
   ]
  },
  {
   "cell_type": "code",
   "execution_count": 8,
   "metadata": {},
   "outputs": [
    {
     "name": "stdout",
     "output_type": "stream",
     "text": [
      "2.9.1\n",
      "tf.Tensor([ 7.3087937e-01  2.4518272e-04 -7.3112452e-01], shape=(3,), dtype=float32)\n"
     ]
    }
   ],
   "source": [
    "# 计算梯度值\n",
    "import tensorflow as tf\n",
    "\n",
    "print(tf.__version__) # 2.0.0\n",
    "z = tf.constant([4, -4, 3], dtype = tf.float32)\n",
    "\n",
    "# 构造梯度记录器\n",
    "with tf.GradientTape(persistent = True) as tape:\n",
    "    tape.watch([z])\n",
    "    # 前向传播过程\n",
    "    y = tf.one_hot(2, depth=3)\n",
    "    CE = tf.keras.losses.categorical_crossentropy(y, z, from_logits=True)\n",
    "    CE = tf.reduce_mean(CE)\n",
    "\n",
    "dCE_dz = tape.gradient(CE, [z])[0]\n",
    "print(dCE_dz)"
   ]
  }
 ],
 "metadata": {
  "kernelspec": {
   "display_name": "Python 3.10.5 ('virtualenv': venv)",
   "language": "python",
   "name": "python3"
  },
  "language_info": {
   "codemirror_mode": {
    "name": "ipython",
    "version": 3
   },
   "file_extension": ".py",
   "mimetype": "text/x-python",
   "name": "python",
   "nbconvert_exporter": "python",
   "pygments_lexer": "ipython3",
   "version": "3.10.5"
  },
  "orig_nbformat": 4,
  "vscode": {
   "interpreter": {
    "hash": "cb63f12dc7f52f810f0947f49e435da0797b328f197778c8dc581129fa544c9c"
   }
  }
 },
 "nbformat": 4,
 "nbformat_minor": 2
}
