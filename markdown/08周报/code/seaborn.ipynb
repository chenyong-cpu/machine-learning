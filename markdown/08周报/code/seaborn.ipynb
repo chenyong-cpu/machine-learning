{
 "cells": [
  {
   "cell_type": "code",
   "execution_count": 1,
   "metadata": {},
   "outputs": [
    {
     "ename": "AttributeError",
     "evalue": "module 'seaborn' has no attribute 'load_dadaset'",
     "output_type": "error",
     "traceback": [
      "\u001b[1;31m---------------------------------------------------------------------------\u001b[0m",
      "\u001b[1;31mAttributeError\u001b[0m                            Traceback (most recent call last)",
      "\u001b[1;32me:\\visual studio code\\研究生\\machine-learning\\markdown\\08周报\\code\\seaborn.ipynb Cell 1\u001b[0m in \u001b[0;36m<cell line: 7>\u001b[1;34m()\u001b[0m\n\u001b[0;32m      <a href='vscode-notebook-cell:/e%3A/visual%20studio%20code/%E7%A0%94%E7%A9%B6%E7%94%9F/machine-learning/markdown/08%E5%91%A8%E6%8A%A5/code/seaborn.ipynb#ch0000000?line=2'>3</a>\u001b[0m \u001b[39mimport\u001b[39;00m \u001b[39mnumpy\u001b[39;00m \u001b[39mas\u001b[39;00m \u001b[39mnp\u001b[39;00m\n\u001b[0;32m      <a href='vscode-notebook-cell:/e%3A/visual%20studio%20code/%E7%A0%94%E7%A9%B6%E7%94%9F/machine-learning/markdown/08%E5%91%A8%E6%8A%A5/code/seaborn.ipynb#ch0000000?line=3'>4</a>\u001b[0m sns\u001b[39m.\u001b[39mset_theme(style\u001b[39m=\u001b[39m\u001b[39m\"\u001b[39m\u001b[39mdarkgrid\u001b[39m\u001b[39m\"\u001b[39m)\n\u001b[1;32m----> <a href='vscode-notebook-cell:/e%3A/visual%20studio%20code/%E7%A0%94%E7%A9%B6%E7%94%9F/machine-learning/markdown/08%E5%91%A8%E6%8A%A5/code/seaborn.ipynb#ch0000000?line=6'>7</a>\u001b[0m tips \u001b[39m=\u001b[39m sns\u001b[39m.\u001b[39;49mload_dadaset(\u001b[39m\"\u001b[39m\u001b[39mtips\u001b[39m\u001b[39m\"\u001b[39m, data_home\u001b[39m=\u001b[39m\u001b[39m\"\u001b[39m\u001b[39mseaborn-data\u001b[39m\u001b[39m\"\u001b[39m, cache\u001b[39m=\u001b[39m\u001b[39mTrue\u001b[39;00m)\n\u001b[0;32m      <a href='vscode-notebook-cell:/e%3A/visual%20studio%20code/%E7%A0%94%E7%A9%B6%E7%94%9F/machine-learning/markdown/08%E5%91%A8%E6%8A%A5/code/seaborn.ipynb#ch0000000?line=7'>8</a>\u001b[0m sns\u001b[39m.\u001b[39mreplot(x\u001b[39m=\u001b[39m\u001b[39m\"\u001b[39m\u001b[39mtotal_bill\u001b[39m\u001b[39m\"\u001b[39m, y\u001b[39m=\u001b[39m\u001b[39m\"\u001b[39m\u001b[39mtip\u001b[39m\u001b[39m\"\u001b[39m, data\u001b[39m=\u001b[39mtips)\n",
      "\u001b[1;31mAttributeError\u001b[0m: module 'seaborn' has no attribute 'load_dadaset'"
     ]
    }
   ],
   "source": [
    "import seaborn as sns\n",
    "import pandas as pd\n",
    "import numpy as np\n",
    "sns.set_theme(style=\"darkgrid\")\n",
    "\n",
    "tips = sns.load_dadaset(\"tips\", data_home=\"seaborn-data\", cache=True)\n",
    "sns.replot(x=\"total_bill\", y=\"tip\", data=tips)"
   ]
  }
 ],
 "metadata": {
  "kernelspec": {
   "display_name": "Python 3.10.0 ('jupyter': venv)",
   "language": "python",
   "name": "python3"
  },
  "language_info": {
   "codemirror_mode": {
    "name": "ipython",
    "version": 3
   },
   "file_extension": ".py",
   "mimetype": "text/x-python",
   "name": "python",
   "nbconvert_exporter": "python",
   "pygments_lexer": "ipython3",
   "version": "3.10.0"
  },
  "orig_nbformat": 4,
  "vscode": {
   "interpreter": {
    "hash": "141c5e0ba87e97013844de5b21d12d023199bf67a08052ba51b9f2de1a481a39"
   }
  }
 },
 "nbformat": 4,
 "nbformat_minor": 2
}
