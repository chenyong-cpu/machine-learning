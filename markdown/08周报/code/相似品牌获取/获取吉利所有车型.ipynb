{
 "cells": [
  {
   "cell_type": "code",
   "execution_count": 42,
   "metadata": {},
   "outputs": [],
   "source": [
    "import requests\n",
    "import numpy as np\n",
    "import pandas as pd\n",
    "from bs4 import BeautifulSoup\n",
    "\n",
    "# 访问网页https://www.yoojia.com/car/83-0-0-0-0-0-0-0-0-0-0-0-0-0-4-0-0.html?sa=alapc_5271_title获取吉利所有车型数据\n",
    "def askurl(url=\"https://www.yoojia.com/car/83-0-0-0-0-0-0-0-0-0-0-0-0-0-4-0-0.html?sa=alapc_5271_title\"):\n",
    "    headers = {\n",
    "        \"user-agent\": \"Mozilla/5.0 (Windows NT 6.1; WOW64) AppleWebKit/537.36 (KHTML, like Gecko) Chrome/86.0.4240.198 Safari/537.36 QIHU 360SE\"\n",
    "    }\n",
    "    html = requests.get(url, headers=headers)\n",
    "    return html.text\n",
    "\n",
    "# 分割字符串：10.12-18.53万：[10.12, 18.53]\n",
    "def split_str(str):\n",
    "    site_1 = str.find('-')\n",
    "    str1 = str[:site_1]\n",
    "    site_2 = len(str)\n",
    "    str2 = str[site_1+1:site_2-1]\n",
    "    return str1, str2\n",
    "\n",
    "# 把字符串转换为数字：18.53万->185600\n",
    "def str2num(str):\n",
    "    num = float(str) * 10000\n",
    "    return num\n",
    "\n",
    "def getcars():\n",
    "    brands = [] # 存放汽车名称，最低价格，最高价格\n",
    "    # html = askurl() # 获取网址的html文件\n",
    "    file = open(\"C:/Users/mapple/Desktop/吉利汽车汽车大全-最新车型报价-图片-排行榜-推荐-有驾.html\", \"r\", encoding=\"utf-8\")\n",
    "    html = file.read()\n",
    "    soup = BeautifulSoup(html, 'html.parser')\n",
    "    div = soup.find('div', class_ = 'database-info')\n",
    "    carinfo = div.findAll(class_ = 'car-info')\n",
    "    for car in carinfo:\n",
    "        brand = car.find('p', class_ = 'car-name')\n",
    "        car_name = brand['title']\n",
    "        price = car.find('p', class_ = 'car-price')\n",
    "        car_price = price.text\n",
    "\n",
    "        if car_price == '暂无': continue\n",
    "\n",
    "        low_price, high_price = split_str(car_price)\n",
    "        brands.append([car_name, low_price, high_price])\n",
    "    brands = np.array(brands)\n",
    "    brands = pd.DataFrame({'吉利车型': brands[:, 0], '低配价格': brands[:, 1], '高配价格': brands[:, 2]})\n",
    "    brands.to_csv(\"吉利.csv\")\n",
    "\n",
    "\n",
    "getcars()"
   ]
  }
 ],
 "metadata": {
  "kernelspec": {
   "display_name": "Python 3.10.0 ('jupyter': venv)",
   "language": "python",
   "name": "python3"
  },
  "language_info": {
   "codemirror_mode": {
    "name": "ipython",
    "version": 3
   },
   "file_extension": ".py",
   "mimetype": "text/x-python",
   "name": "python",
   "nbconvert_exporter": "python",
   "pygments_lexer": "ipython3",
   "version": "3.10.0"
  },
  "orig_nbformat": 4,
  "vscode": {
   "interpreter": {
    "hash": "141c5e0ba87e97013844de5b21d12d023199bf67a08052ba51b9f2de1a481a39"
   }
  }
 },
 "nbformat": 4,
 "nbformat_minor": 2
}
