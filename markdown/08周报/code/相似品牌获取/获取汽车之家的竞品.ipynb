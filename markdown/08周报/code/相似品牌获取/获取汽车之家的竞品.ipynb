{
 "cells": [
  {
   "cell_type": "code",
   "execution_count": 1,
   "metadata": {},
   "outputs": [
    {
     "data": {
      "text/plain": [
       "'%u661f%u8d8aL'"
      ]
     },
     "execution_count": 1,
     "metadata": {},
     "output_type": "execute_result"
    }
   ],
   "source": [
    "import requests\n",
    "import numpy as np\n",
    "import pandas as pd\n",
    "from bs4 import BeautifulSoup\n",
    "\n",
    "\n",
    "# 将中文转换为unicode\n",
    "def chinese2urlcode(str):\n",
    "    uni = str.encode('unicode-escape').decode()\n",
    "    return uni.replace('\\\\', '%')\n",
    "\n",
    "# 获取网页\n",
    "def askurl(url):\n",
    "    headers = {\n",
    "        \"user-agent\": \"Mozilla/5.0 (Windows NT 6.1; WOW64) AppleWebKit/537.36 (KHTML, like Gecko) Chrome/86.0.4240.198 Safari/537.36 QIHU 360SE\"\n",
    "    }\n",
    "    html = requests.get(url, headers=headers)\n",
    "    return html.text\n",
    "\n",
    "# 分割字符串：10.12-18.53万：[10.12, 18.53]\n",
    "def split_str(str):\n",
    "    site_1 = str.find('-')\n",
    "    str1 = str[:site_1]\n",
    "    site_2 = len(str)\n",
    "    str2 = str[site_1+1:site_2-1]\n",
    "    return str1, str2\n",
    "\n",
    "def split_single(str):\n",
    "    site1 = str.find('-')\n",
    "    site2 = len(str) - 5\n",
    "    return str[site1+1:site2-1]\n",
    "\n",
    "# 把字符串转换为数字：18.53万->185600\n",
    "def str2num(str):\n",
    "    num = float(str) * 10000\n",
    "    return num\n",
    "\n",
    "def getcars():\n",
    "    all_brands = []\n",
    "    jili_brands = pd.read_csv('吉利.csv')\n",
    "    for idx, row in jili_brands.iterrows():\n",
    "        html = askurl(row['竞争品牌URL'])\n",
    "        soup = BeautifulSoup(html, 'html.parser')\n",
    "        div = soup.find('div', class_='content')\n",
    "        h4 = div.find_all('h4', class_='rank-txt')\n",
    "        dd = div.find_all('dd', class_='rcont-list')\n",
    "        for i in range(len(h4)):\n",
    "            other_brand = h4[i].find('a').text\n",
    "            low_price, high_price = split_str(dd[i].find('span', class_='font-arial cd6-wei').text)\n",
    "            if other_brand[:4] == '吉利汽车': continue\n",
    "            all_brands.append([row['吉利车型'], row['低配价格'], row['高配价格'], other_brand[:other_brand.find('-')],split_single(other_brand), low_price, high_price])\n",
    "    all_brands = np.array(all_brands)\n",
    "    all_brands = pd.DataFrame({'吉利车型': all_brands[:, 0], '低配价格': all_brands[:, 1], '高配价格': all_brands[:, 2], '其它品牌': all_brands[:, 3],'其它车型': all_brands[:, 4], '其它车型低配价格': all_brands[:, 5], '其它车型高配价格': all_brands[:, 6]})\n",
    "    all_brands.to_csv(\"竞品3.csv\")\n",
    "    # print(all_brands)\n",
    "\n",
    "\n",
    "# getcars()\n",
    "chinese2urlcode(\"星越L\")"
   ]
  }
 ],
 "metadata": {
  "kernelspec": {
   "display_name": "Python 3.10.5 ('virtualenv': venv)",
   "language": "python",
   "name": "python3"
  },
  "language_info": {
   "codemirror_mode": {
    "name": "ipython",
    "version": 3
   },
   "file_extension": ".py",
   "mimetype": "text/x-python",
   "name": "python",
   "nbconvert_exporter": "python",
   "pygments_lexer": "ipython3",
   "version": "3.10.5"
  },
  "orig_nbformat": 4,
  "vscode": {
   "interpreter": {
    "hash": "cb63f12dc7f52f810f0947f49e435da0797b328f197778c8dc581129fa544c9c"
   }
  }
 },
 "nbformat": 4,
 "nbformat_minor": 2
}
