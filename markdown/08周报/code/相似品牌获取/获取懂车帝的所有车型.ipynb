{
 "cells": [
  {
   "cell_type": "code",
   "execution_count": null,
   "metadata": {},
   "outputs": [],
   "source": [
    "import requests\n",
    "import numpy as np\n",
    "import pandas as pd\n",
    "from bs4 import BeautifulSoup\n",
    "\n",
    "\n",
    "# 懂车帝搜索URL：https://www.dongchedi.com/search?keyword=%E9%95%BF%E5%AE%89CS55PLUS&currTab=1&city_name=%E6%9D%AD%E5%B7%9E&search_mode=common\n",
    "front_url = \"https://www.dongchedi.com/search?keyword=\"\n",
    "back_url = \"&currTab=1&city_name=%E6%9D%AD%E5%B7%9E&search_mode=common\"\n",
    "\n",
    "def askurl(url):\n",
    "    headers = {\n",
    "        \"user-agent\": \"Mozilla/5.0 (Windows NT 6.1; WOW64) AppleWebKit/537.36 (KHTML, like Gecko) Chrome/86.0.4240.198 Safari/537.36 QIHU 360SE\"\n",
    "    }\n",
    "    html = requests.get(url, headers=headers)\n",
    "    return html.text\n",
    "\n",
    "# 分割字符串：10.12-18.53万：[10.12, 18.53]\n",
    "def split_str(str):\n",
    "    site_1 = str.find('-')\n",
    "    str1 = str[:site_1]\n",
    "    site_2 = len(str)\n",
    "    str2 = str[site_1+1:site_2-1]\n",
    "    return str1, str2\n",
    "\n",
    "def getcars():\n",
    "    all_brands = []\n",
    "    competitive_brand = pd.read_csv('竞品.csv')\n",
    "    brands = competitive_brand['吉利车型'].drop_duplicates()\n",
    "    for name in brands:\n",
    "        jili_brand = competitive_brand[:][competitive_brand['吉利车型'] == name].iloc[0]\n",
    "        # 获取懂车帝中吉利汽车的竞品\n",
    "        html = askurl(front_url + name + back_url)\n",
    "        soup = BeautifulSoup(html, 'html.parser')\n",
    "        section = soup.find('section', class_='jsx-2188849952 level-car vertical')\n",
    "        if section is None: continue\n",
    "        div = section.find_all('div', class_='jsx-2188849952 info')\n",
    "        for i in range(len(div)):\n",
    "            other_brand = div[i].find('a').text\n",
    "            other_price = div[i].find('div', class_='jsx-2188849952 price').text\n",
    "            low_price, high_price = split_str(other_price)\n",
    "            if low_price == '暂': continue\n",
    "            all_brands.append([name, jili_brand[2], jili_brand[3], other_brand, low_price, high_price])\n",
    "    all_brands = np.array(all_brands)\n",
    "    all_brands = pd.DataFrame({'吉利车型': all_brands[:, 0], '低配价格': all_brands[:, 1], '高配价格': all_brands[:, 2], '其它车型': all_brands[:, 3], '其它车型低配价格': all_brands[:, 4], '其它车型高配价格': all_brands[:, 5]})\n",
    "    all_brands.to_csv(\"懂车帝.csv\")\n",
    "\n",
    "\n",
    "getcars()"
   ]
  }
 ],
 "metadata": {
  "kernelspec": {
   "display_name": "Python 3.10.0 ('jupyter': venv)",
   "language": "python",
   "name": "python3"
  },
  "language_info": {
   "codemirror_mode": {
    "name": "ipython",
    "version": 3
   },
   "file_extension": ".py",
   "mimetype": "text/x-python",
   "name": "python",
   "nbconvert_exporter": "python",
   "pygments_lexer": "ipython3",
   "version": "3.10.0"
  },
  "orig_nbformat": 4,
  "vscode": {
   "interpreter": {
    "hash": "141c5e0ba87e97013844de5b21d12d023199bf67a08052ba51b9f2de1a481a39"
   }
  }
 },
 "nbformat": 4,
 "nbformat_minor": 2
}
