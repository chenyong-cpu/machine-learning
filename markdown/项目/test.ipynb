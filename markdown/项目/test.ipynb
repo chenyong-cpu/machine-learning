{
 "cells": [
  {
   "cell_type": "code",
   "execution_count": 1,
   "metadata": {},
   "outputs": [
    {
     "data": {
      "text/plain": [
       "0    （234）\n",
       "1     （23）\n",
       "Name: 1, dtype: object"
      ]
     },
     "execution_count": 1,
     "metadata": {},
     "output_type": "execute_result"
    }
   ],
   "source": [
    "import numpy as np\n",
    "import pandas as pd\n",
    "\n",
    "\n",
    "ts = np.array([[1, '123（234）'], [2, '123（23）']])\n",
    "ts = pd.DataFrame({'型号': ts[:, 0], '数值': ts[:, 1]})\n",
    "ts['数值'].str.split(r\"(（.*）)\", expand=True)[1]"
   ]
  }
 ],
 "metadata": {
  "kernelspec": {
   "display_name": "Python 3.10.0 ('jupyter': venv)",
   "language": "python",
   "name": "python3"
  },
  "language_info": {
   "codemirror_mode": {
    "name": "ipython",
    "version": 3
   },
   "file_extension": ".py",
   "mimetype": "text/x-python",
   "name": "python",
   "nbconvert_exporter": "python",
   "pygments_lexer": "ipython3",
   "version": "3.10.0"
  },
  "orig_nbformat": 4,
  "vscode": {
   "interpreter": {
    "hash": "141c5e0ba87e97013844de5b21d12d023199bf67a08052ba51b9f2de1a481a39"
   }
  }
 },
 "nbformat": 4,
 "nbformat_minor": 2
}
