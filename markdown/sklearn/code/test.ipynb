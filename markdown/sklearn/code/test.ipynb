{
 "cells": [
  {
   "cell_type": "code",
   "execution_count": 6,
   "metadata": {},
   "outputs": [
    {
     "data": {
      "text/plain": [
       "array([[ 0.49671415, -0.1382643 ,  0.64768854, ...,  0.26105527,\n",
       "         0.00511346, -0.23458713],\n",
       "       [-1.41537074, -0.42064532, -0.34271452, ...,  0.15372511,\n",
       "         0.05820872, -1.1429703 ],\n",
       "       [ 0.35778736,  0.56078453,  1.08305124, ...,  0.30729952,\n",
       "         0.81286212,  0.62962884],\n",
       "       ...,\n",
       "       [ 1.80434811, -0.19090379,  0.71975794, ...,  1.40159859,\n",
       "         0.65045009, -1.5030803 ],\n",
       "       [ 1.05194762, -0.99806063, -0.38397127, ..., -1.00395737,\n",
       "         0.20726733,  0.06934434],\n",
       "       [-0.72173755,  0.17682087, -0.54668008, ..., -0.27976017,\n",
       "         0.7903719 ,  0.34005129]])"
      ]
     },
     "execution_count": 6,
     "metadata": {},
     "output_type": "execute_result"
    }
   ],
   "source": [
    "import numpy as np\n",
    "import matplotlib.pyplot as plt\n",
    "\n",
    "from sklearn.metrics import r2_score\n",
    "\n",
    "np.random.seed(42)\n",
    "\n",
    "n_samples, n_features = 50, 100\n",
    "X = np.random.randn(n_samples, n_features)\n",
    "\n",
    "idx = np.arange(n_features)\n",
    "coef = (-1) ** idx * np.exp(-idx / 10)\n",
    "coef[10:] = 0  # sparsify coef\n",
    "y = np.dot(X, coef)\n",
    "\n",
    "y += 0.01 * np.random.normal(size=n_samples)\n",
    "\n",
    "# Split data in train set and test set\n",
    "n_samples = X.shape[0]\n",
    "X_train, y_train = X[: n_samples // 2], y[: n_samples // 2]\n",
    "X_test, y_test = X[n_samples // 2 :], y[n_samples // 2 :]\n",
    "\n",
    "X_train"
   ]
  }
 ],
 "metadata": {
  "kernelspec": {
   "display_name": "Python 3.10.5 ('virtualenv': venv)",
   "language": "python",
   "name": "python3"
  },
  "language_info": {
   "codemirror_mode": {
    "name": "ipython",
    "version": 3
   },
   "file_extension": ".py",
   "mimetype": "text/x-python",
   "name": "python",
   "nbconvert_exporter": "python",
   "pygments_lexer": "ipython3",
   "version": "3.10.5"
  },
  "orig_nbformat": 4,
  "vscode": {
   "interpreter": {
    "hash": "cb63f12dc7f52f810f0947f49e435da0797b328f197778c8dc581129fa544c9c"
   }
  }
 },
 "nbformat": 4,
 "nbformat_minor": 2
}
