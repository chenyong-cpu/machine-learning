<<<<<<< HEAD
{
 "cells": [
  {
   "cell_type": "code",
   "execution_count": 41,
   "metadata": {},
   "outputs": [
    {
     "name": "stdout",
     "output_type": "stream",
     "text": [
      "       吉利车型   低配价格  高配价格  其它品牌     其它车型 其它车型低配价格 其它车型高配价格\n",
      "0        缤越   7.58  11.9  长安欧尚   长安欧尚Z6     9.99     12.9\n",
      "1        缤越   7.58  11.9    荣威    荣威RX5     9.33     13.5\n",
      "2        缤越   7.58  11.9  长安欧尚   长安欧尚X5     6.99     10.9\n",
      "3        缤越   7.58  11.9  广汽传祺    传祺GS4     8.98     13.1\n",
      "4        缤越   7.58  11.9  五菱汽车     五菱星辰     6.98      9.9\n",
      "..      ...    ...   ...   ...      ...      ...      ...\n",
      "139  博瑞PHEV  15.58  16.9    大众       凌渡    15.09     19.0\n",
      "140  博瑞PHEV  15.58  16.9    丰田      亚洲狮    14.18     17.9\n",
      "141  博瑞PHEV  15.58  16.9    欧拉     欧拉好猫    14.10     17.1\n",
      "142  博瑞PHEV  15.58  16.9    丰田       凌尚    14.88     15.8\n",
      "143  博瑞PHEV  15.58  16.9   雪铁龙  凡尔赛C5 X    14.37     18.6\n",
      "\n",
      "[144 rows x 7 columns]\n"
     ]
    }
   ],
   "source": [
    "import requests\n",
    "import numpy as np\n",
    "import pandas as pd\n",
    "from bs4 import BeautifulSoup\n",
    "\n",
    "\n",
    "# 获取网页\n",
    "def askurl(url):\n",
    "    headers = {\n",
    "        \"user-agent\": \"Mozilla/5.0 (Windows NT 6.1; WOW64) AppleWebKit/537.36 (KHTML, like Gecko) Chrome/86.0.4240.198 Safari/537.36 QIHU 360SE\"\n",
    "    }\n",
    "    html = requests.get(url, headers=headers)\n",
    "    return html.text\n",
    "\n",
    "# 获取易车的所以吉利车型\n",
    "def get_jili_brands():\n",
    "    brands = []\n",
    "    cars = open('./易车.html')\n",
    "    brand = BeautifulSoup(cars)\n",
    "    brand = brand.find('div', class_='yccmp-subbrand-wrap')\n",
    "    jili_cars = brand.find_all('div')\n",
    "    for jili_car in jili_cars:\n",
    "        jili_a = jili_car.find_all('a')\n",
    "        for jili in jili_a:\n",
    "            span1 = jili.find('span', class_='yccmp-subbrand-item-tit')\n",
    "            span2 = jili.find('span', class_='yccmp-subbrand-item-sale')\n",
    "            if len(span2.text) != 0: continue\n",
    "            href = jili['href']\n",
    "            brands.append([span1.text, href])\n",
    "    return brands\n",
    "\n",
    "# 分割字符串：10.12-18.53万：[10.12, 18.53]\n",
    "def split_str(str):\n",
    "    site_1 = str.find('-')\n",
    "    str1 = str[:site_1]\n",
    "    site_2 = str.find('万')\n",
    "    str2 = str[site_1+1:site_2-1]\n",
    "    return str1.lstrip(), str2\n",
    "\n",
    "# 获取吉利汽车所有竞品\n",
    "def get_cars():\n",
    "    all_brands = []\n",
    "    brands = get_jili_brands()\n",
    "    for brand in brands:\n",
    "        html = askurl(brand[1])\n",
    "        html = BeautifulSoup(html)\n",
    "        jili_price = html.find('div', class_='block1 guidance-price')\n",
    "        jili_price = jili_price.find('span').text\n",
    "        # 吉利汽车的最低价格和最高价格\n",
    "        low_price, high_price = split_str(jili_price)\n",
    "        # 获取竞品\n",
    "        other_brands = html.find('div', class_='chexingPK-box').find_all('dl')\n",
    "        for other_brand in other_brands:\n",
    "            href = other_brand.find('a')['href']\n",
    "            href = 'https://car.yiche.com/' + href\n",
    "            name = other_brand.find('p', class_='name').text\n",
    "            other_low_price, other_high_price = split_str(other_brand.find('p',class_='num').text)\n",
    "            new_page = askurl(href)\n",
    "            new_page = BeautifulSoup(new_page)\n",
    "            new_page_fl = new_page.find('div', class_='info-box').find('div', class_='fl').find_all('li')\n",
    "            new_page_fr = new_page.find('div', class_='info-box').find('div', class_='fr').find_all('li')\n",
    "            if new_page_fl[0].text == name: new_page_brand = new_page_fl[3].text\n",
    "            else: new_page_brand = new_page_fr[3].text\n",
    "            all_brands.append([brand[0], low_price, high_price, new_page_brand, name, other_low_price, other_high_price])\n",
    "    all_brands = np.array(all_brands)\n",
    "    all_brands = pd.DataFrame({'吉利车型': all_brands[:, 0], '低配价格': all_brands[:, 1], '高配价格': all_brands[:, 2], '其它品牌': all_brands[:, 3],'其它车型': all_brands[:, 4], '其它车型低配价格': all_brands[:, 5], '其它车型高配价格': all_brands[:, 6]})\n",
    "    print(all_brands)\n",
    "    all_brands.to_csv(\"易车.csv\")\n",
    "\n",
    "# print(askurl('https://car.autohome.com.cn/price/brand-25.html'))\n",
    "# 汽车之家的三级网络获取有待商榷，可能存疑\n",
    "# html = askurl('https://www.yiche.com/')\n",
    "# print(html)\n",
    "# get_all_brands()\n",
    "get_cars()"
   ]
  }
 ],
 "metadata": {
  "kernelspec": {
   "display_name": "Python 3.7.9 64-bit",
   "language": "python",
   "name": "python3"
  },
  "language_info": {
   "codemirror_mode": {
    "name": "ipython",
    "version": 3
   },
   "file_extension": ".py",
   "mimetype": "text/x-python",
   "name": "python",
   "nbconvert_exporter": "python",
   "pygments_lexer": "ipython3",
   "version": "3.7.9"
  },
  "orig_nbformat": 4,
  "vscode": {
   "interpreter": {
    "hash": "66117571e2862f7831a55f5c1c850dab31e6aa7a41c7d00de67bd428fdb9d533"
   }
  }
 },
 "nbformat": 4,
 "nbformat_minor": 2
}
=======
{
 "cells": [
  {
   "cell_type": "code",
   "execution_count": 41,
   "metadata": {},
   "outputs": [
    {
     "name": "stdout",
     "output_type": "stream",
     "text": [
      "       吉利车型   低配价格  高配价格  其它品牌     其它车型 其它车型低配价格 其它车型高配价格\n",
      "0        缤越   7.58  11.9  长安欧尚   长安欧尚Z6     9.99     12.9\n",
      "1        缤越   7.58  11.9    荣威    荣威RX5     9.33     13.5\n",
      "2        缤越   7.58  11.9  长安欧尚   长安欧尚X5     6.99     10.9\n",
      "3        缤越   7.58  11.9  广汽传祺    传祺GS4     8.98     13.1\n",
      "4        缤越   7.58  11.9  五菱汽车     五菱星辰     6.98      9.9\n",
      "..      ...    ...   ...   ...      ...      ...      ...\n",
      "139  博瑞PHEV  15.58  16.9    大众       凌渡    15.09     19.0\n",
      "140  博瑞PHEV  15.58  16.9    丰田      亚洲狮    14.18     17.9\n",
      "141  博瑞PHEV  15.58  16.9    欧拉     欧拉好猫    14.10     17.1\n",
      "142  博瑞PHEV  15.58  16.9    丰田       凌尚    14.88     15.8\n",
      "143  博瑞PHEV  15.58  16.9   雪铁龙  凡尔赛C5 X    14.37     18.6\n",
      "\n",
      "[144 rows x 7 columns]\n"
     ]
    }
   ],
   "source": [
    "import requests\n",
    "import numpy as np\n",
    "import pandas as pd\n",
    "from bs4 import BeautifulSoup\n",
    "\n",
    "\n",
    "# 获取网页\n",
    "def askurl(url):\n",
    "    headers = {\n",
    "        \"user-agent\": \"Mozilla/5.0 (Windows NT 6.1; WOW64) AppleWebKit/537.36 (KHTML, like Gecko) Chrome/86.0.4240.198 Safari/537.36 QIHU 360SE\"\n",
    "    }\n",
    "    html = requests.get(url, headers=headers)\n",
    "    return html.text\n",
    "\n",
    "# 获取易车的所以吉利车型\n",
    "def get_jili_brands():\n",
    "    brands = []\n",
    "    cars = open('./易车.html')\n",
    "    brand = BeautifulSoup(cars)\n",
    "    brand = brand.find('div', class_='yccmp-subbrand-wrap')\n",
    "    jili_cars = brand.find_all('div')\n",
    "    for jili_car in jili_cars:\n",
    "        jili_a = jili_car.find_all('a')\n",
    "        for jili in jili_a:\n",
    "            span1 = jili.find('span', class_='yccmp-subbrand-item-tit')\n",
    "            span2 = jili.find('span', class_='yccmp-subbrand-item-sale')\n",
    "            if len(span2.text) != 0: continue\n",
    "            href = jili['href']\n",
    "            brands.append([span1.text, href])\n",
    "    return brands\n",
    "\n",
    "# 分割字符串：10.12-18.53万：[10.12, 18.53]\n",
    "def split_str(str):\n",
    "    site_1 = str.find('-')\n",
    "    str1 = str[:site_1]\n",
    "    site_2 = str.find('万')\n",
    "    str2 = str[site_1+1:site_2-1]\n",
    "    return str1.lstrip(), str2\n",
    "\n",
    "# 获取吉利汽车所有竞品\n",
    "def get_cars():\n",
    "    all_brands = []\n",
    "    brands = get_jili_brands()\n",
    "    for brand in brands:\n",
    "        html = askurl(brand[1])\n",
    "        html = BeautifulSoup(html)\n",
    "        jili_price = html.find('div', class_='block1 guidance-price')\n",
    "        jili_price = jili_price.find('span').text\n",
    "        # 吉利汽车的最低价格和最高价格\n",
    "        low_price, high_price = split_str(jili_price)\n",
    "        # 获取竞品\n",
    "        other_brands = html.find('div', class_='chexingPK-box').find_all('dl')\n",
    "        for other_brand in other_brands:\n",
    "            href = other_brand.find('a')['href']\n",
    "            href = 'https://car.yiche.com/' + href\n",
    "            name = other_brand.find('p', class_='name').text\n",
    "            other_low_price, other_high_price = split_str(other_brand.find('p',class_='num').text)\n",
    "            new_page = askurl(href)\n",
    "            new_page = BeautifulSoup(new_page)\n",
    "            new_page_fl = new_page.find('div', class_='info-box').find('div', class_='fl').find_all('li')\n",
    "            new_page_fr = new_page.find('div', class_='info-box').find('div', class_='fr').find_all('li')\n",
    "            if new_page_fl[0].text == name: new_page_brand = new_page_fl[3].text\n",
    "            else: new_page_brand = new_page_fr[3].text\n",
    "            all_brands.append([brand[0], low_price, high_price, new_page_brand, name, other_low_price, other_high_price])\n",
    "    all_brands = np.array(all_brands)\n",
    "    all_brands = pd.DataFrame({'吉利车型': all_brands[:, 0], '低配价格': all_brands[:, 1], '高配价格': all_brands[:, 2], '其它品牌': all_brands[:, 3],'其它车型': all_brands[:, 4], '其它车型低配价格': all_brands[:, 5], '其它车型高配价格': all_brands[:, 6]})\n",
    "    print(all_brands)\n",
    "    all_brands.to_csv(\"易车.csv\")\n",
    "\n",
    "# print(askurl('https://car.autohome.com.cn/price/brand-25.html'))\n",
    "# 汽车之家的三级网络获取有待商榷，可能存疑\n",
    "# html = askurl('https://www.yiche.com/')\n",
    "# print(html)\n",
    "# get_all_brands()\n",
    "get_cars()"
   ]
  }
 ],
 "metadata": {
  "kernelspec": {
   "display_name": "Python 3.10.0 ('jupyter': venv)",
   "language": "python",
   "name": "python3"
  },
  "language_info": {
   "codemirror_mode": {
    "name": "ipython",
    "version": 3
   },
   "file_extension": ".py",
   "mimetype": "text/x-python",
   "name": "python",
   "nbconvert_exporter": "python",
   "pygments_lexer": "ipython3",
   "version": "3.10.0"
  },
  "orig_nbformat": 4,
  "vscode": {
   "interpreter": {
    "hash": "141c5e0ba87e97013844de5b21d12d023199bf67a08052ba51b9f2de1a481a39"
   }
  }
 },
 "nbformat": 4,
 "nbformat_minor": 2
}
>>>>>>> work
