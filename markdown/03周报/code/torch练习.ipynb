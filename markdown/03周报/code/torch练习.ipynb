{
 "cells": [
  {
   "cell_type": "code",
   "execution_count": 1,
   "metadata": {},
   "outputs": [
    {
     "data": {
      "text/plain": [
       "tensor([[ 2.,  0.],\n",
       "        [-2.,  2.]])"
      ]
     },
     "execution_count": 1,
     "metadata": {},
     "output_type": "execute_result"
    }
   ],
   "source": [
    "import torch\n",
    "\n",
    "x = torch.tensor([[1., 0.], [-1., 1.]], requires_grad=True)\n",
    "z = x.pow(2).sum()\n",
    "# 计算梯度\n",
    "z.backward()\n",
    "x.grad"
   ]
  },
  {
   "cell_type": "code",
   "execution_count": null,
   "metadata": {},
   "outputs": [],
   "source": [
    "# pytorch流程\n",
    "\n",
    "# 1. 加载数据处理\n",
    "# import pandas as pd\n",
    "# train_data = pd.read_csv('文件').drop(columns=['date']).values\n",
    "# x_train, y_train = train_data[:, :-1], train_data[:, -1]\n",
    "\n",
    "# 2. Dataset\n",
    "# __init__: 读取data\n",
    "# __getitem__: 获取data中某个数据\n",
    "# __len__: 获取data长度\n",
    "\n",
    "# 3. Dataloader\n",
    "# train_loader = DataLoader(train_loader, batch_size=32, shuffle=True, pin_memory=True)\n",
    "# Group data into batches\n",
    "# We ooften set shuffle=True during training\n",
    "\n",
    "# 4. Model"
   ]
  },
  {
   "cell_type": "code",
   "execution_count": 4,
   "metadata": {},
   "outputs": [
    {
     "data": {
      "text/plain": [
       "tensor([[[1., 1., 1., 1., 1.],\n",
       "         [1., 1., 1., 1., 1.]]])"
      ]
     },
     "execution_count": 4,
     "metadata": {},
     "output_type": "execute_result"
    }
   ],
   "source": [
    "x = torch.ones([1, 2, 5])\n",
    "x"
   ]
  }
 ],
 "metadata": {
  "kernelspec": {
   "display_name": "Python 3.10.0 ('jupyter': venv)",
   "language": "python",
   "name": "python3"
  },
  "language_info": {
   "codemirror_mode": {
    "name": "ipython",
    "version": 3
   },
   "file_extension": ".py",
   "mimetype": "text/x-python",
   "name": "python",
   "nbconvert_exporter": "python",
   "pygments_lexer": "ipython3",
   "version": "3.10.0"
  },
  "orig_nbformat": 4,
  "vscode": {
   "interpreter": {
    "hash": "141c5e0ba87e97013844de5b21d12d023199bf67a08052ba51b9f2de1a481a39"
   }
  }
 },
 "nbformat": 4,
 "nbformat_minor": 2
}
